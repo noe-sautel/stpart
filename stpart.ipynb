{
 "cells": [
  {
   "cell_type": "markdown",
   "metadata": {},
   "source": [
    "# Cleaning"
   ]
  },
  {
   "cell_type": "code",
   "execution_count": 1,
   "metadata": {},
   "outputs": [],
   "source": [
    "import chardet\n",
    "import pandas as pd\n",
    "import datetime"
   ]
  },
  {
   "cell_type": "code",
   "execution_count": 2,
   "metadata": {},
   "outputs": [],
   "source": [
    "#with open('data/owner.csv', 'rb') as f:\n",
    "#    result = chardet.detect(f.read())  # or readline if the file is large\n",
    "#\n",
    "#print(result)"
   ]
  },
  {
   "cell_type": "code",
   "execution_count": 3,
   "metadata": {},
   "outputs": [],
   "source": [
    "# display full url for user_profile for instance\n",
    "#pd.set_option('display.max_colwidth', 1000)"
   ]
  },
  {
   "cell_type": "code",
   "execution_count": 4,
   "metadata": {},
   "outputs": [],
   "source": [
    "owner = pd.read_csv(\"data/owner.csv\",sep=';', encoding='ISO-8859-1')\n",
    "prop = pd.read_csv(\"data/property.csv\", sep=';', encoding='ISO-8859-1')"
   ]
  },
  {
   "cell_type": "code",
   "execution_count": 5,
   "metadata": {},
   "outputs": [
    {
     "name": "stdout",
     "output_type": "stream",
     "text": [
      "shape of owner is :(15127, 7)\n",
      "shape of prop is :(18686, 14)\n"
     ]
    }
   ],
   "source": [
    "print(\"shape of owner is :\" + str(owner.shape))\n",
    "print(\"shape of prop is :\" + str(prop.shape))"
   ]
  },
  {
   "cell_type": "code",
   "execution_count": 6,
   "metadata": {},
   "outputs": [],
   "source": [
    "# vérification des années\n",
    "#owner[\"Année de Birthdate\"].unique()"
   ]
  },
  {
   "cell_type": "code",
   "execution_count": 7,
   "metadata": {},
   "outputs": [],
   "source": [
    "# make a dictionary that maps the month name in french to a number\n",
    "french_to_eng = {'janvier':'1','février':'2','mars': '3','avril': '4','mai':'5','juin':'6','juillet': '7','août': '8','septembre': '9','octobre':'10','novembre':'11','décembre':'12'}\n",
    "\n",
    "# make new columsn for day month and year. For month, map the french name to month numbers\n",
    "owner['day_sign_up'] = owner['Jour de Created At User'].apply(lambda x : x.split(' ')[0])\n",
    "owner['month_sign_up'] = owner['Jour de Created At User'].apply(lambda x : x.split(' ')[1]).map(french_to_eng)\n",
    "owner['year_sign_up'] = owner['Jour de Created At User'].apply(lambda x : x.split(' ')[2])\n",
    "\n",
    "# make date time column from year, month and day.\n",
    "owner['user_sign_up_date'] = pd.to_datetime(owner['year_sign_up']+'-'+owner['month_sign_up']+'-'+owner['day_sign_up'],format='%Y-%m-%d', errors='ignore')\n",
    "\n",
    "owner = owner.drop(columns=['day_sign_up', 'month_sign_up', 'year_sign_up'])"
   ]
  },
  {
   "cell_type": "code",
   "execution_count": 8,
   "metadata": {},
   "outputs": [],
   "source": [
    "owner['Jour de Last Login Date'].fillna(owner['Jour de Created At User'], inplace=True)"
   ]
  },
  {
   "cell_type": "code",
   "execution_count": 9,
   "metadata": {},
   "outputs": [],
   "source": [
    "# make new columsn for day month and year. For month, map the french name to month numbers\n",
    "owner['day_sign_in'] = owner['Jour de Last Login Date'].apply(lambda x : x.split(' ')[0])\n",
    "owner['month_sign_in'] = owner['Jour de Last Login Date'].apply(lambda x : x.split(' ')[1]).map(french_to_eng)\n",
    "owner['year_sign_in'] = owner['Jour de Last Login Date'].apply(lambda x : x.split(' ')[2])\n",
    "\n",
    "# make date time column from year, month and day.\n",
    "owner['user_sign_in_date'] = pd.to_datetime(owner['year_sign_in']+'-'+owner['month_sign_in']+'-'+owner['day_sign_in'],format='%Y-%m-%d', errors='ignore')\n",
    "\n",
    "owner = owner.drop(columns=['day_sign_in', 'month_sign_in', 'year_sign_in'])"
   ]
  },
  {
   "cell_type": "code",
   "execution_count": 10,
   "metadata": {},
   "outputs": [],
   "source": [
    "owner['user_sign_in_date'] = pd.to_datetime(owner['user_sign_in_date'])\n",
    "owner['user_sign_up_date'] = pd.to_datetime(owner['user_sign_up_date'])"
   ]
  },
  {
   "cell_type": "code",
   "execution_count": 11,
   "metadata": {},
   "outputs": [],
   "source": [
    "owner['today_date']= datetime.date.today()\n",
    "owner['today_date']= pd.to_datetime(owner.today_date)"
   ]
  },
  {
   "cell_type": "code",
   "execution_count": 12,
   "metadata": {},
   "outputs": [],
   "source": [
    "owner['seniority'] = owner.today_date - owner.user_sign_in_date\n",
    "owner['days_since_last_login'] = owner.today_date - owner.user_sign_up_date\n",
    "\n",
    "# quand owner['days_since_last_login'] vaut 0, on émet l'hypothèse que le compte est inactif"
   ]
  },
  {
   "cell_type": "code",
   "execution_count": 13,
   "metadata": {},
   "outputs": [],
   "source": [
    "owner['year'] = datetime.date.today().year\n",
    "owner['Année de Birthdate'] = owner['Année de Birthdate'].fillna(datetime.date.today().year)\n",
    "owner['age'] = owner.year - owner['Année de Birthdate']\n",
    "owner = owner.drop(columns=['Année de Birthdate', 'year', 'Jour de Created At User', 'Jour de Last Login Date'])"
   ]
  },
  {
   "cell_type": "code",
   "execution_count": 15,
   "metadata": {},
   "outputs": [
    {
     "name": "stdout",
     "output_type": "stream",
     "text": [
      "(15099, 10)\n",
      "(15127, 10)\n",
      "(28, 10)\n"
     ]
    }
   ],
   "source": [
    "# Je ne traite pas les 28 lignes présentant des erreurs de formatages\n",
    "df_owner = owner[owner[\"Languages\"].str.startswith('{') == False]\n",
    "df_owner = df_owner.rename(columns={\"owner_id\":\"id_owner\",\"gender\":\"gaaender\",\"languages\":\"languages\",\"country\":\"country\",\"user_sign_up_date\":\"user_sign_up_date\",\"user_sign_in_date\":\"user_sign_in_date\",\"today_date\":\"today_date\",\"seniority\":\"seniority\",\"days_since_last_login\":\"days_since_last_login\",\"age\": \"age\"})\n",
    "df_owner.columns = map(str.lower, df_owner.columns)\n",
    "df_owner.columns = df_owner.columns.str.replace(' ', '_')\n",
    "print(df_owner.shape)\n",
    "print(owner.shape)\n",
    "print(owner[owner[\"Languages\"].str.startswith('{')].shape)"
   ]
  },
  {
   "cell_type": "code",
   "execution_count": 14,
   "metadata": {},
   "outputs": [
    {
     "data": {
      "text/html": [
       "<div>\n",
       "<style scoped>\n",
       "    .dataframe tbody tr th:only-of-type {\n",
       "        vertical-align: middle;\n",
       "    }\n",
       "\n",
       "    .dataframe tbody tr th {\n",
       "        vertical-align: top;\n",
       "    }\n",
       "\n",
       "    .dataframe thead th {\n",
       "        text-align: right;\n",
       "    }\n",
       "</style>\n",
       "<table border=\"1\" class=\"dataframe\">\n",
       "  <thead>\n",
       "    <tr style=\"text-align: right;\">\n",
       "      <th></th>\n",
       "      <th>Owner ID</th>\n",
       "      <th>Gender</th>\n",
       "      <th>Languages</th>\n",
       "      <th>Country</th>\n",
       "      <th>user_sign_up_date</th>\n",
       "      <th>user_sign_in_date</th>\n",
       "      <th>today_date</th>\n",
       "      <th>seniority</th>\n",
       "      <th>days_since_last_login</th>\n",
       "      <th>age</th>\n",
       "    </tr>\n",
       "  </thead>\n",
       "  <tbody>\n",
       "    <tr>\n",
       "      <th>0</th>\n",
       "      <td>0a0e4-ad50-4b3a-81fd-a29ed0000</td>\n",
       "      <td>male</td>\n",
       "      <td>[]</td>\n",
       "      <td>NaN</td>\n",
       "      <td>2018-05-12</td>\n",
       "      <td>2019-02-19</td>\n",
       "      <td>2019-06-17</td>\n",
       "      <td>118 days</td>\n",
       "      <td>401 days</td>\n",
       "      <td>0.0</td>\n",
       "    </tr>\n",
       "    <tr>\n",
       "      <th>1</th>\n",
       "      <td>0a1e1-1cfe-46d0-9069-e567bc9c3</td>\n",
       "      <td>female</td>\n",
       "      <td>[]</td>\n",
       "      <td>NaN</td>\n",
       "      <td>2018-06-11</td>\n",
       "      <td>2018-06-26</td>\n",
       "      <td>2019-06-17</td>\n",
       "      <td>356 days</td>\n",
       "      <td>371 days</td>\n",
       "      <td>0.0</td>\n",
       "    </tr>\n",
       "    <tr>\n",
       "      <th>2</th>\n",
       "      <td>0a2b8-f8c2-4a2c-b6f8-d2f901abe</td>\n",
       "      <td>female</td>\n",
       "      <td>[]</td>\n",
       "      <td>NaN</td>\n",
       "      <td>2018-04-17</td>\n",
       "      <td>2018-04-17</td>\n",
       "      <td>2019-06-17</td>\n",
       "      <td>426 days</td>\n",
       "      <td>426 days</td>\n",
       "      <td>0.0</td>\n",
       "    </tr>\n",
       "    <tr>\n",
       "      <th>3</th>\n",
       "      <td>0a2bd-8842-4067-b52e-0a8922be2</td>\n",
       "      <td>female</td>\n",
       "      <td>[\"en\", \"fr\"]</td>\n",
       "      <td>NaN</td>\n",
       "      <td>2017-06-26</td>\n",
       "      <td>2017-07-17</td>\n",
       "      <td>2019-06-17</td>\n",
       "      <td>700 days</td>\n",
       "      <td>721 days</td>\n",
       "      <td>0.0</td>\n",
       "    </tr>\n",
       "    <tr>\n",
       "      <th>4</th>\n",
       "      <td>0a3ef-f75e-463c-b52b-fa39184d5</td>\n",
       "      <td>male</td>\n",
       "      <td>[]</td>\n",
       "      <td>NaN</td>\n",
       "      <td>2018-03-09</td>\n",
       "      <td>2018-03-09</td>\n",
       "      <td>2019-06-17</td>\n",
       "      <td>465 days</td>\n",
       "      <td>465 days</td>\n",
       "      <td>0.0</td>\n",
       "    </tr>\n",
       "  </tbody>\n",
       "</table>\n",
       "</div>"
      ],
      "text/plain": [
       "                         Owner ID  Gender     Languages Country  \\\n",
       "0  0a0e4-ad50-4b3a-81fd-a29ed0000    male            []     NaN   \n",
       "1  0a1e1-1cfe-46d0-9069-e567bc9c3  female            []     NaN   \n",
       "2  0a2b8-f8c2-4a2c-b6f8-d2f901abe  female            []     NaN   \n",
       "3  0a2bd-8842-4067-b52e-0a8922be2  female  [\"en\", \"fr\"]     NaN   \n",
       "4  0a3ef-f75e-463c-b52b-fa39184d5    male            []     NaN   \n",
       "\n",
       "  user_sign_up_date user_sign_in_date today_date seniority  \\\n",
       "0        2018-05-12        2019-02-19 2019-06-17  118 days   \n",
       "1        2018-06-11        2018-06-26 2019-06-17  356 days   \n",
       "2        2018-04-17        2018-04-17 2019-06-17  426 days   \n",
       "3        2017-06-26        2017-07-17 2019-06-17  700 days   \n",
       "4        2018-03-09        2018-03-09 2019-06-17  465 days   \n",
       "\n",
       "  days_since_last_login  age  \n",
       "0              401 days  0.0  \n",
       "1              371 days  0.0  \n",
       "2              426 days  0.0  \n",
       "3              721 days  0.0  \n",
       "4              465 days  0.0  "
      ]
     },
     "execution_count": 14,
     "metadata": {},
     "output_type": "execute_result"
    }
   ],
   "source": [
    "# On supprime les ages avec des valeurs négatives\n",
    "df_owner['age'][df_owner.age <= -1] = 0"
   ]
  },
  {
   "cell_type": "code",
   "execution_count": 16,
   "metadata": {},
   "outputs": [
    {
     "data": {
      "text/plain": [
       "array([nan, False, True], dtype=object)"
      ]
     },
     "execution_count": 16,
     "metadata": {},
     "output_type": "execute_result"
    }
   ],
   "source": [
    "# Boolean values\n",
    "funrished_mapping= {'FAUX':False, 'VRAI':True}\n",
    "prop.Furnished = prop.Furnished.map(funrished_mapping)\n",
    "prop.Furnished.unique()"
   ]
  },
  {
   "cell_type": "code",
   "execution_count": 17,
   "metadata": {},
   "outputs": [],
   "source": [
    "# make a dictionary that maps the month name in french to a number\n",
    "french_to_eng = {'janv':'1','févr':'2','mars': '3','avr': '4','mai':'5','juin':'6','juil': '7','août': '8','sept': '9','oct':'10','nov':'11','déc':'12'}\n",
    "year_mapping = {'13':'2013','14':'2014','15':'2015','16':'2016','17':'2017','18':'2018', '19':'2019'}\n",
    "\n",
    "# make new columsn for day month and year. For month, map the french name to month numbers\n",
    "prop['day_offline_at'] = prop[prop['Jour de Offline At'].notnull() == True]['Jour de Offline At'].apply(lambda x : x.split('-')[0])\n",
    "prop['month_offline_at'] = prop[prop['Jour de Offline At'].notnull() == True]['Jour de Offline At'].apply(lambda x : x.split('-')[1]).map(french_to_eng)\n",
    "prop['year_offline_at'] = prop[prop['Jour de Offline At'].notnull() == True]['Jour de Offline At'].apply(lambda x : x.split('-')[2]).map(year_mapping)\n",
    "\n",
    "# make date time column from year, month and day.\n",
    "prop['offline_date'] = pd.to_datetime(prop['year_offline_at']+'-'+prop['month_offline_at']+'-'+prop['day_offline_at'],format='%Y-%m-%d', errors='ignore')\n",
    "\n",
    "prop = prop.drop(columns=['day_offline_at', 'month_offline_at', 'year_offline_at'])"
   ]
  },
  {
   "cell_type": "code",
   "execution_count": 18,
   "metadata": {},
   "outputs": [],
   "source": [
    "# make a dictionary that maps the month name in french to a number\n",
    "\n",
    "# make new columsn for day month and year. For month, map the french name to month numbers\n",
    "prop['day_online_at'] = prop[prop['Jour de Online At'].notnull() == True]['Jour de Online At'].apply(lambda x : x.split('-')[0])\n",
    "prop['month_online_at'] = prop[prop['Jour de Online At'].notnull() == True]['Jour de Online At'].apply(lambda x : x.split('-')[1]).map(french_to_eng)\n",
    "prop['year_online_at'] = prop[prop['Jour de Online At'].notnull() == True]['Jour de Online At'].apply(lambda x : x.split('-')[2]).map(year_mapping)\n",
    "\n",
    "# make date time column from year, month and day.\n",
    "prop['online_date'] = pd.to_datetime(prop['year_online_at']+'-'+prop['month_online_at']+'-'+prop['day_online_at'],format='%Y-%m-%d', errors='ignore')\n",
    "\n",
    "prop = prop.drop(columns=['day_online_at', 'month_online_at', 'year_online_at'])"
   ]
  },
  {
   "cell_type": "code",
   "execution_count": 19,
   "metadata": {},
   "outputs": [],
   "source": [
    "# make a dictionary that maps the month name in french to a number\n",
    "\n",
    "# make new columsn for day month and year. For month, map the french name to month numbers\n",
    "prop['day_created_at'] = prop[prop['Jour de Created At (Properties)'].notnull() == True]['Jour de Created At (Properties)'].apply(lambda x : x.split('-')[0])\n",
    "prop['month_created_at'] = prop[prop['Jour de Created At (Properties)'].notnull() == True]['Jour de Created At (Properties)'].apply(lambda x : x.split('-')[1]).map(french_to_eng)\n",
    "prop['year_created_at'] = prop[prop['Jour de Created At (Properties)'].notnull() == True]['Jour de Created At (Properties)'].apply(lambda x : x.split('-')[2]).map(year_mapping)\n",
    "\n",
    "# make date time column from year, month and day.\n",
    "prop['proprety_creation_date'] = pd.to_datetime(prop['year_created_at']+'-'+prop['month_created_at']+'-'+prop['day_created_at'],format='%Y-%m-%d', errors='ignore')\n",
    "\n",
    "prop = prop.drop(columns=['day_created_at', 'month_created_at', 'year_created_at','Jour de Offline At','Jour de Online At','Jour de Created At (Properties)'])"
   ]
  },
  {
   "cell_type": "code",
   "execution_count": 20,
   "metadata": {},
   "outputs": [],
   "source": [
    "# Delete first row\n",
    "df_prop = prop[1:-1]"
   ]
  },
  {
   "cell_type": "code",
   "execution_count": 21,
   "metadata": {},
   "outputs": [],
   "source": [
    "df_prop.columns = map(str.lower, df_prop.columns)\n",
    "df_prop.columns = df_prop.columns.str.rstrip()\n",
    "df_prop.columns = df_prop.columns.str.replace(' ', '_')"
   ]
  },
  {
   "cell_type": "code",
   "execution_count": 22,
   "metadata": {},
   "outputs": [
    {
     "data": {
      "text/html": [
       "<div>\n",
       "<style scoped>\n",
       "    .dataframe tbody tr th:only-of-type {\n",
       "        vertical-align: middle;\n",
       "    }\n",
       "\n",
       "    .dataframe tbody tr th {\n",
       "        vertical-align: top;\n",
       "    }\n",
       "\n",
       "    .dataframe thead th {\n",
       "        text-align: right;\n",
       "    }\n",
       "</style>\n",
       "<table border=\"1\" class=\"dataframe\">\n",
       "  <thead>\n",
       "    <tr style=\"text-align: right;\">\n",
       "      <th></th>\n",
       "      <th>owner_id</th>\n",
       "      <th>gender</th>\n",
       "      <th>languages</th>\n",
       "      <th>country</th>\n",
       "      <th>user_sign_up_date</th>\n",
       "      <th>user_sign_in_date</th>\n",
       "      <th>today_date</th>\n",
       "      <th>seniority</th>\n",
       "      <th>days_since_last_login</th>\n",
       "      <th>age</th>\n",
       "    </tr>\n",
       "  </thead>\n",
       "  <tbody>\n",
       "    <tr>\n",
       "      <th>0</th>\n",
       "      <td>0a0e4-ad50-4b3a-81fd-a29ed0000</td>\n",
       "      <td>male</td>\n",
       "      <td>[]</td>\n",
       "      <td>NaN</td>\n",
       "      <td>2018-05-12</td>\n",
       "      <td>2019-02-19</td>\n",
       "      <td>2019-06-17</td>\n",
       "      <td>118 days</td>\n",
       "      <td>401 days</td>\n",
       "      <td>0.0</td>\n",
       "    </tr>\n",
       "    <tr>\n",
       "      <th>1</th>\n",
       "      <td>0a1e1-1cfe-46d0-9069-e567bc9c3</td>\n",
       "      <td>female</td>\n",
       "      <td>[]</td>\n",
       "      <td>NaN</td>\n",
       "      <td>2018-06-11</td>\n",
       "      <td>2018-06-26</td>\n",
       "      <td>2019-06-17</td>\n",
       "      <td>356 days</td>\n",
       "      <td>371 days</td>\n",
       "      <td>0.0</td>\n",
       "    </tr>\n",
       "    <tr>\n",
       "      <th>2</th>\n",
       "      <td>0a2b8-f8c2-4a2c-b6f8-d2f901abe</td>\n",
       "      <td>female</td>\n",
       "      <td>[]</td>\n",
       "      <td>NaN</td>\n",
       "      <td>2018-04-17</td>\n",
       "      <td>2018-04-17</td>\n",
       "      <td>2019-06-17</td>\n",
       "      <td>426 days</td>\n",
       "      <td>426 days</td>\n",
       "      <td>0.0</td>\n",
       "    </tr>\n",
       "    <tr>\n",
       "      <th>3</th>\n",
       "      <td>0a2bd-8842-4067-b52e-0a8922be2</td>\n",
       "      <td>female</td>\n",
       "      <td>[\"en\", \"fr\"]</td>\n",
       "      <td>NaN</td>\n",
       "      <td>2017-06-26</td>\n",
       "      <td>2017-07-17</td>\n",
       "      <td>2019-06-17</td>\n",
       "      <td>700 days</td>\n",
       "      <td>721 days</td>\n",
       "      <td>0.0</td>\n",
       "    </tr>\n",
       "    <tr>\n",
       "      <th>4</th>\n",
       "      <td>0a3ef-f75e-463c-b52b-fa39184d5</td>\n",
       "      <td>male</td>\n",
       "      <td>[]</td>\n",
       "      <td>NaN</td>\n",
       "      <td>2018-03-09</td>\n",
       "      <td>2018-03-09</td>\n",
       "      <td>2019-06-17</td>\n",
       "      <td>465 days</td>\n",
       "      <td>465 days</td>\n",
       "      <td>0.0</td>\n",
       "    </tr>\n",
       "  </tbody>\n",
       "</table>\n",
       "</div>"
      ],
      "text/plain": [
       "                         owner_id  gender     languages country  \\\n",
       "0  0a0e4-ad50-4b3a-81fd-a29ed0000    male            []     NaN   \n",
       "1  0a1e1-1cfe-46d0-9069-e567bc9c3  female            []     NaN   \n",
       "2  0a2b8-f8c2-4a2c-b6f8-d2f901abe  female            []     NaN   \n",
       "3  0a2bd-8842-4067-b52e-0a8922be2  female  [\"en\", \"fr\"]     NaN   \n",
       "4  0a3ef-f75e-463c-b52b-fa39184d5    male            []     NaN   \n",
       "\n",
       "  user_sign_up_date user_sign_in_date today_date seniority  \\\n",
       "0        2018-05-12        2019-02-19 2019-06-17  118 days   \n",
       "1        2018-06-11        2018-06-26 2019-06-17  356 days   \n",
       "2        2018-04-17        2018-04-17 2019-06-17  426 days   \n",
       "3        2017-06-26        2017-07-17 2019-06-17  700 days   \n",
       "4        2018-03-09        2018-03-09 2019-06-17  465 days   \n",
       "\n",
       "  days_since_last_login  age  \n",
       "0              401 days  0.0  \n",
       "1              371 days  0.0  \n",
       "2              426 days  0.0  \n",
       "3              721 days  0.0  \n",
       "4              465 days  0.0  "
      ]
     },
     "execution_count": 22,
     "metadata": {},
     "output_type": "execute_result"
    }
   ],
   "source": [
    "df_owner.head()"
   ]
  },
  {
   "cell_type": "markdown",
   "metadata": {},
   "source": [
    "# Analysis"
   ]
  },
  {
   "cell_type": "code",
   "execution_count": 41,
   "metadata": {},
   "outputs": [],
   "source": [
    "import numpy as np"
   ]
  },
  {
   "cell_type": "code",
   "execution_count": 29,
   "metadata": {},
   "outputs": [
    {
     "data": {
      "text/plain": [
       "gender\n",
       "female    7495\n",
       "male      7604\n",
       "Name: owner_id, dtype: int64"
      ]
     },
     "execution_count": 29,
     "metadata": {},
     "output_type": "execute_result"
    }
   ],
   "source": [
    "df_owner.groupby('gender').count().owner_id"
   ]
  },
  {
   "cell_type": "code",
   "execution_count": 24,
   "metadata": {},
   "outputs": [],
   "source": [
    "import plotly.plotly as py\n",
    "import plotly.graph_objs as go"
   ]
  },
  {
   "cell_type": "code",
   "execution_count": 25,
   "metadata": {},
   "outputs": [
    {
     "name": "stderr",
     "output_type": "stream",
     "text": [
      "/Users/noesautel/miniconda3/envs/develop/lib/python3.6/site-packages/IPython/core/display.py:689: UserWarning:\n",
      "\n",
      "Consider using IPython.display.IFrame instead\n",
      "\n"
     ]
    },
    {
     "data": {
      "text/html": [
       "<iframe id=\"igraph\" scrolling=\"no\" style=\"border:none;\" seamless=\"seamless\" src=\"https://plot.ly/~AlxLc/20.embed\" height=\"525px\" width=\"100%\"></iframe>"
      ],
      "text/plain": [
       "<plotly.tools.PlotlyDisplay object>"
      ]
     },
     "execution_count": 25,
     "metadata": {},
     "output_type": "execute_result"
    }
   ],
   "source": [
    "trace = go.Scatter(\n",
    "    x = df_owner[['owner_id','days_since_last_login']].owner_id.tolist(),\n",
    "    y = df_owner['days_since_last_login'].apply(lambda x : x.days).tolist(),\n",
    "    mode = 'markers'\n",
    ")\n",
    "\n",
    "data = [trace]\n",
    "py.iplot(data, filename='basic-scatter')"
   ]
  },
  {
   "cell_type": "markdown",
   "metadata": {},
   "source": [
    "On distingue deux groupes d'utilisateurs: les actifs ayant réaliser une connexion au cours des 500 derniers jours, et ceux qui semblent avoir quitter la plateforme il y a envion 700 jours."
   ]
  },
  {
   "cell_type": "code",
   "execution_count": 34,
   "metadata": {},
   "outputs": [
    {
     "data": {
      "text/plain": [
       "owner_id                          object\n",
       "gender                            object\n",
       "languages                         object\n",
       "country                           object\n",
       "user_sign_up_date         datetime64[ns]\n",
       "user_sign_in_date         datetime64[ns]\n",
       "today_date                datetime64[ns]\n",
       "seniority                timedelta64[ns]\n",
       "days_since_last_login    timedelta64[ns]\n",
       "age                              float64\n",
       "dtype: object"
      ]
     },
     "execution_count": 34,
     "metadata": {},
     "output_type": "execute_result"
    }
   ],
   "source": [
    "df_owner.dtypes"
   ]
  },
  {
   "cell_type": "code",
   "execution_count": 35,
   "metadata": {},
   "outputs": [
    {
     "data": {
      "text/html": [
       "<div>\n",
       "<style scoped>\n",
       "    .dataframe tbody tr th:only-of-type {\n",
       "        vertical-align: middle;\n",
       "    }\n",
       "\n",
       "    .dataframe tbody tr th {\n",
       "        vertical-align: top;\n",
       "    }\n",
       "\n",
       "    .dataframe thead th {\n",
       "        text-align: right;\n",
       "    }\n",
       "</style>\n",
       "<table border=\"1\" class=\"dataframe\">\n",
       "  <thead>\n",
       "    <tr style=\"text-align: right;\">\n",
       "      <th></th>\n",
       "      <th>owner_id</th>\n",
       "      <th>gender</th>\n",
       "      <th>languages</th>\n",
       "      <th>country</th>\n",
       "      <th>user_sign_up_date</th>\n",
       "      <th>user_sign_in_date</th>\n",
       "      <th>today_date</th>\n",
       "      <th>seniority</th>\n",
       "      <th>days_since_last_login</th>\n",
       "      <th>age</th>\n",
       "    </tr>\n",
       "  </thead>\n",
       "  <tbody>\n",
       "    <tr>\n",
       "      <th>0</th>\n",
       "      <td>0a0e4-ad50-4b3a-81fd-a29ed0000</td>\n",
       "      <td>male</td>\n",
       "      <td>[]</td>\n",
       "      <td>NaN</td>\n",
       "      <td>2018-05-12</td>\n",
       "      <td>2019-02-19</td>\n",
       "      <td>2019-06-17</td>\n",
       "      <td>118 days</td>\n",
       "      <td>401 days</td>\n",
       "      <td>0.0</td>\n",
       "    </tr>\n",
       "    <tr>\n",
       "      <th>1</th>\n",
       "      <td>0a1e1-1cfe-46d0-9069-e567bc9c3</td>\n",
       "      <td>female</td>\n",
       "      <td>[]</td>\n",
       "      <td>NaN</td>\n",
       "      <td>2018-06-11</td>\n",
       "      <td>2018-06-26</td>\n",
       "      <td>2019-06-17</td>\n",
       "      <td>356 days</td>\n",
       "      <td>371 days</td>\n",
       "      <td>0.0</td>\n",
       "    </tr>\n",
       "    <tr>\n",
       "      <th>2</th>\n",
       "      <td>0a2b8-f8c2-4a2c-b6f8-d2f901abe</td>\n",
       "      <td>female</td>\n",
       "      <td>[]</td>\n",
       "      <td>NaN</td>\n",
       "      <td>2018-04-17</td>\n",
       "      <td>2018-04-17</td>\n",
       "      <td>2019-06-17</td>\n",
       "      <td>426 days</td>\n",
       "      <td>426 days</td>\n",
       "      <td>0.0</td>\n",
       "    </tr>\n",
       "    <tr>\n",
       "      <th>3</th>\n",
       "      <td>0a2bd-8842-4067-b52e-0a8922be2</td>\n",
       "      <td>female</td>\n",
       "      <td>[\"en\", \"fr\"]</td>\n",
       "      <td>NaN</td>\n",
       "      <td>2017-06-26</td>\n",
       "      <td>2017-07-17</td>\n",
       "      <td>2019-06-17</td>\n",
       "      <td>700 days</td>\n",
       "      <td>721 days</td>\n",
       "      <td>0.0</td>\n",
       "    </tr>\n",
       "    <tr>\n",
       "      <th>4</th>\n",
       "      <td>0a3ef-f75e-463c-b52b-fa39184d5</td>\n",
       "      <td>male</td>\n",
       "      <td>[]</td>\n",
       "      <td>NaN</td>\n",
       "      <td>2018-03-09</td>\n",
       "      <td>2018-03-09</td>\n",
       "      <td>2019-06-17</td>\n",
       "      <td>465 days</td>\n",
       "      <td>465 days</td>\n",
       "      <td>0.0</td>\n",
       "    </tr>\n",
       "  </tbody>\n",
       "</table>\n",
       "</div>"
      ],
      "text/plain": [
       "                         owner_id  gender     languages country  \\\n",
       "0  0a0e4-ad50-4b3a-81fd-a29ed0000    male            []     NaN   \n",
       "1  0a1e1-1cfe-46d0-9069-e567bc9c3  female            []     NaN   \n",
       "2  0a2b8-f8c2-4a2c-b6f8-d2f901abe  female            []     NaN   \n",
       "3  0a2bd-8842-4067-b52e-0a8922be2  female  [\"en\", \"fr\"]     NaN   \n",
       "4  0a3ef-f75e-463c-b52b-fa39184d5    male            []     NaN   \n",
       "\n",
       "  user_sign_up_date user_sign_in_date today_date seniority  \\\n",
       "0        2018-05-12        2019-02-19 2019-06-17  118 days   \n",
       "1        2018-06-11        2018-06-26 2019-06-17  356 days   \n",
       "2        2018-04-17        2018-04-17 2019-06-17  426 days   \n",
       "3        2017-06-26        2017-07-17 2019-06-17  700 days   \n",
       "4        2018-03-09        2018-03-09 2019-06-17  465 days   \n",
       "\n",
       "  days_since_last_login  age  \n",
       "0              401 days  0.0  \n",
       "1              371 days  0.0  \n",
       "2              426 days  0.0  \n",
       "3              721 days  0.0  \n",
       "4              465 days  0.0  "
      ]
     },
     "execution_count": 35,
     "metadata": {},
     "output_type": "execute_result"
    }
   ],
   "source": [
    "df_owner.head()"
   ]
  },
  {
   "cell_type": "code",
   "execution_count": 54,
   "metadata": {},
   "outputs": [],
   "source": [
    "df_test = df_owner"
   ]
  },
  {
   "cell_type": "code",
   "execution_count": 55,
   "metadata": {},
   "outputs": [
    {
     "data": {
      "text/html": [
       "<div>\n",
       "<style scoped>\n",
       "    .dataframe tbody tr th:only-of-type {\n",
       "        vertical-align: middle;\n",
       "    }\n",
       "\n",
       "    .dataframe tbody tr th {\n",
       "        vertical-align: top;\n",
       "    }\n",
       "\n",
       "    .dataframe thead th {\n",
       "        text-align: right;\n",
       "    }\n",
       "</style>\n",
       "<table border=\"1\" class=\"dataframe\">\n",
       "  <thead>\n",
       "    <tr style=\"text-align: right;\">\n",
       "      <th></th>\n",
       "      <th>owner_id</th>\n",
       "      <th>gender</th>\n",
       "      <th>languages</th>\n",
       "      <th>country</th>\n",
       "      <th>user_sign_up_date</th>\n",
       "      <th>user_sign_in_date</th>\n",
       "      <th>today_date</th>\n",
       "      <th>seniority</th>\n",
       "      <th>days_since_last_login</th>\n",
       "      <th>age</th>\n",
       "    </tr>\n",
       "  </thead>\n",
       "  <tbody>\n",
       "    <tr>\n",
       "      <th>0</th>\n",
       "      <td>0a0e4-ad50-4b3a-81fd-a29ed0000</td>\n",
       "      <td>male</td>\n",
       "      <td>[]</td>\n",
       "      <td>NaN</td>\n",
       "      <td>2018-05-12</td>\n",
       "      <td>2019-02-19</td>\n",
       "      <td>2019-06-17</td>\n",
       "      <td>118 days</td>\n",
       "      <td>401 days</td>\n",
       "      <td>0.0</td>\n",
       "    </tr>\n",
       "    <tr>\n",
       "      <th>1</th>\n",
       "      <td>0a1e1-1cfe-46d0-9069-e567bc9c3</td>\n",
       "      <td>female</td>\n",
       "      <td>[]</td>\n",
       "      <td>NaN</td>\n",
       "      <td>2018-06-11</td>\n",
       "      <td>2018-06-26</td>\n",
       "      <td>2019-06-17</td>\n",
       "      <td>356 days</td>\n",
       "      <td>371 days</td>\n",
       "      <td>0.0</td>\n",
       "    </tr>\n",
       "    <tr>\n",
       "      <th>2</th>\n",
       "      <td>0a2b8-f8c2-4a2c-b6f8-d2f901abe</td>\n",
       "      <td>female</td>\n",
       "      <td>[]</td>\n",
       "      <td>NaN</td>\n",
       "      <td>2018-04-17</td>\n",
       "      <td>2018-04-17</td>\n",
       "      <td>2019-06-17</td>\n",
       "      <td>426 days</td>\n",
       "      <td>426 days</td>\n",
       "      <td>0.0</td>\n",
       "    </tr>\n",
       "    <tr>\n",
       "      <th>3</th>\n",
       "      <td>0a2bd-8842-4067-b52e-0a8922be2</td>\n",
       "      <td>female</td>\n",
       "      <td>[\"en\", \"fr\"]</td>\n",
       "      <td>NaN</td>\n",
       "      <td>2017-06-26</td>\n",
       "      <td>2017-07-17</td>\n",
       "      <td>2019-06-17</td>\n",
       "      <td>700 days</td>\n",
       "      <td>721 days</td>\n",
       "      <td>0.0</td>\n",
       "    </tr>\n",
       "  </tbody>\n",
       "</table>\n",
       "</div>"
      ],
      "text/plain": [
       "                         owner_id  gender     languages country  \\\n",
       "0  0a0e4-ad50-4b3a-81fd-a29ed0000    male            []     NaN   \n",
       "1  0a1e1-1cfe-46d0-9069-e567bc9c3  female            []     NaN   \n",
       "2  0a2b8-f8c2-4a2c-b6f8-d2f901abe  female            []     NaN   \n",
       "3  0a2bd-8842-4067-b52e-0a8922be2  female  [\"en\", \"fr\"]     NaN   \n",
       "\n",
       "  user_sign_up_date user_sign_in_date today_date seniority  \\\n",
       "0        2018-05-12        2019-02-19 2019-06-17  118 days   \n",
       "1        2018-06-11        2018-06-26 2019-06-17  356 days   \n",
       "2        2018-04-17        2018-04-17 2019-06-17  426 days   \n",
       "3        2017-06-26        2017-07-17 2019-06-17  700 days   \n",
       "\n",
       "  days_since_last_login  age  \n",
       "0              401 days  0.0  \n",
       "1              371 days  0.0  \n",
       "2              426 days  0.0  \n",
       "3              721 days  0.0  "
      ]
     },
     "execution_count": 55,
     "metadata": {},
     "output_type": "execute_result"
    }
   ],
   "source": [
    "df_test.head(4)"
   ]
  },
  {
   "cell_type": "code",
   "execution_count": 58,
   "metadata": {},
   "outputs": [
    {
     "name": "stdout",
     "output_type": "stream",
     "text": [
      "<class 'pandas.core.frame.DataFrame'>\n",
      "Int64Index: 15099 entries, 0 to 15126\n",
      "Data columns (total 10 columns):\n",
      "owner_id                 15099 non-null object\n",
      "gender                   15099 non-null object\n",
      "languages                15099 non-null object\n",
      "country                  1540 non-null object\n",
      "user_sign_up_date        15099 non-null datetime64[ns]\n",
      "user_sign_in_date        15099 non-null datetime64[ns]\n",
      "today_date               15099 non-null datetime64[ns]\n",
      "seniority                15099 non-null int64\n",
      "days_since_last_login    15099 non-null timedelta64[ns]\n",
      "age                      15099 non-null float64\n",
      "dtypes: datetime64[ns](3), float64(1), int64(1), object(4), timedelta64[ns](1)\n",
      "memory usage: 1.3+ MB\n"
     ]
    }
   ],
   "source": []
  },
  {
   "cell_type": "code",
   "execution_count": 56,
   "metadata": {},
   "outputs": [],
   "source": [
    "# transformation de datetime64 vers int64\n",
    "\n",
    "df_owner.seniority = df_owner.seniority.apply(lambda x: x/np.timedelta64(1, 'D')).astype(int)\n",
    "df_owner.days_since_last_login = df_owner.days_since_last_login.apply(lambda x: x/np.timedelta64(1, 'D')).astype(int)"
   ]
  },
  {
   "cell_type": "code",
   "execution_count": 59,
   "metadata": {},
   "outputs": [],
   "source": [
    "df_owner.days_since_last_login = df_owner.days_since_last_login.apply(lambda x: x/np.timedelta64(1, 'D')).astype(int)"
   ]
  },
  {
   "cell_type": "code",
   "execution_count": 63,
   "metadata": {},
   "outputs": [
    {
     "data": {
      "text/html": [
       "<div>\n",
       "<style scoped>\n",
       "    .dataframe tbody tr th:only-of-type {\n",
       "        vertical-align: middle;\n",
       "    }\n",
       "\n",
       "    .dataframe tbody tr th {\n",
       "        vertical-align: top;\n",
       "    }\n",
       "\n",
       "    .dataframe thead th {\n",
       "        text-align: right;\n",
       "    }\n",
       "</style>\n",
       "<table border=\"1\" class=\"dataframe\">\n",
       "  <thead>\n",
       "    <tr style=\"text-align: right;\">\n",
       "      <th></th>\n",
       "      <th>id_property</th>\n",
       "      <th>id_owner</th>\n",
       "      <th>furnished</th>\n",
       "      <th>max_tenant_number</th>\n",
       "      <th>property_type</th>\n",
       "      <th>status</th>\n",
       "      <th>bedrooms_count</th>\n",
       "      <th>ville</th>\n",
       "      <th>property_surface</th>\n",
       "      <th>rooms_count</th>\n",
       "      <th>rent</th>\n",
       "      <th>offline_date</th>\n",
       "      <th>online_date</th>\n",
       "      <th>proprety_creation_date</th>\n",
       "    </tr>\n",
       "  </thead>\n",
       "  <tbody>\n",
       "    <tr>\n",
       "      <th>1</th>\n",
       "      <td>0a0cd-0698-434d-a04a-339904547</td>\n",
       "      <td>392d0-46db-4c8b-80f4-c106b5ccf</td>\n",
       "      <td>False</td>\n",
       "      <td>1.0</td>\n",
       "      <td>apartment</td>\n",
       "      <td>offline</td>\n",
       "      <td>NaN</td>\n",
       "      <td>Paris-Ivry-Villejuif</td>\n",
       "      <td>30</td>\n",
       "      <td>1.0</td>\n",
       "      <td>NaN</td>\n",
       "      <td>2016-10-02</td>\n",
       "      <td>2018-03-03</td>\n",
       "      <td>2016-11-17</td>\n",
       "    </tr>\n",
       "    <tr>\n",
       "      <th>2</th>\n",
       "      <td>0a1b8-576c-4a89-a8db-32ad0c041</td>\n",
       "      <td>48b60-51f7-4adf-8a92-1ee106c88</td>\n",
       "      <td>True</td>\n",
       "      <td>2.0</td>\n",
       "      <td>apartment</td>\n",
       "      <td>offline</td>\n",
       "      <td>1.0</td>\n",
       "      <td>Toulouse</td>\n",
       "      <td>45</td>\n",
       "      <td>2.0</td>\n",
       "      <td>950</td>\n",
       "      <td>2018-07-15</td>\n",
       "      <td>2018-05-24</td>\n",
       "      <td>2018-05-23</td>\n",
       "    </tr>\n",
       "  </tbody>\n",
       "</table>\n",
       "</div>"
      ],
      "text/plain": [
       "                      id_property                        id_owner furnished  \\\n",
       "1  0a0cd-0698-434d-a04a-339904547  392d0-46db-4c8b-80f4-c106b5ccf     False   \n",
       "2  0a1b8-576c-4a89-a8db-32ad0c041  48b60-51f7-4adf-8a92-1ee106c88      True   \n",
       "\n",
       "   max_tenant_number property_type   status  bedrooms_count  \\\n",
       "1                1.0     apartment  offline             NaN   \n",
       "2                2.0     apartment  offline             1.0   \n",
       "\n",
       "                  ville property_surface  rooms_count rent offline_date  \\\n",
       "1  Paris-Ivry-Villejuif               30          1.0  NaN   2016-10-02   \n",
       "2              Toulouse               45          2.0  950   2018-07-15   \n",
       "\n",
       "  online_date proprety_creation_date  \n",
       "1  2018-03-03             2016-11-17  \n",
       "2  2018-05-24             2018-05-23  "
      ]
     },
     "execution_count": 63,
     "metadata": {},
     "output_type": "execute_result"
    }
   ],
   "source": [
    "df_prop.head(2)"
   ]
  },
  {
   "cell_type": "code",
   "execution_count": 71,
   "metadata": {},
   "outputs": [
    {
     "name": "stderr",
     "output_type": "stream",
     "text": [
      "/Users/noesautel/miniconda3/envs/develop/lib/python3.6/site-packages/pandas/core/generic.py:5096: SettingWithCopyWarning:\n",
      "\n",
      "\n",
      "A value is trying to be set on a copy of a slice from a DataFrame.\n",
      "Try using .loc[row_indexer,col_indexer] = value instead\n",
      "\n",
      "See the caveats in the documentation: http://pandas.pydata.org/pandas-docs/stable/indexing.html#indexing-view-versus-copy\n",
      "\n"
     ]
    }
   ],
   "source": [
    "df_prop.max_tenant_number = df_prop.max_tenant_number.astype(int)"
   ]
  },
  {
   "cell_type": "code",
   "execution_count": 103,
   "metadata": {},
   "outputs": [],
   "source": [
    "df_test = df_prop"
   ]
  },
  {
   "cell_type": "code",
   "execution_count": 191,
   "metadata": {},
   "outputs": [
    {
     "data": {
      "text/plain": [
       "array(['30', '45', '10', '35', '28', '260', '200', '21', '120', '16',\n",
       "       '24', '25', '18', '42', '60', '104', '70', '164', '55', '575',\n",
       "       '288', '175', '17', '23', '26', '27', '15', '80', '50', '39', '72',\n",
       "       '243', '29', '32', '118', '20', '9', '33', '222', '280', '54',\n",
       "       '300', '36', '46', '130', '106', '465', '132', '460', '13', '34',\n",
       "       '37', '344', '270', '231', '219', '52', '540', '210', '19', '392',\n",
       "       '100', '126', '304', '110', '65', '31', '150', '144', '22', '14',\n",
       "       '160', '197', '180', '234', '40', '62', '265', '12', '360', '11',\n",
       "       '228', '82', '75', '90', '48', '340', '92', '84', '320', '240',\n",
       "       '41', '122', '380', '85', '47', '710', '112', '276', '78', '249',\n",
       "       '255', '108', '230', '64', '279', '74', '95', '102', '66', '86',\n",
       "       '61', '450', '140', '38', '94', '600', '67', '105', '400', '71',\n",
       "       '490', '57', '170', '182', '49', '156', '44', '264', '207', '58',\n",
       "       '720', '960', '480', '171', '520', '201', '404', '128', '76',\n",
       "       '204', '1\\xa0260', '318', '116', '51', '134', '492', '114',\n",
       "       '1\\xa0435', '356', '368', '68', '251', '53', '43', '284', '430',\n",
       "       '162', '152', '308', '420', '146', '1\\xa0190', '272', '195', '97',\n",
       "       '336', '1\\xa0250', '91', '225', '350', '372', '69', '81', '495',\n",
       "       '216', '177', '261', '154', '285', '244', '760', '63', '220',\n",
       "       '376', '136', '165', '500', '410', '816', '135', '113', '294',\n",
       "       '96', '98', '440', '174', '364', '115', '412', '189', '166',\n",
       "       '1\\xa0600', '246', '312', '183', '1\\xa0200', '800', '618', '560',\n",
       "       '148', '119', '125', '250', '159', '83', '328', '88', '700', '388',\n",
       "       '0', '580', '103', '1\\xa0050', '348', '252', '555', '405', '178',\n",
       "       '1\\xa0470', '145', '282', '384', '640', '56', '635', '432', '303',\n",
       "       '660', '147', '79', '168', '176', '93', '396', '332', '324',\n",
       "       '1\\xa0080', '186', '750', '535', '314', '1\\xa0071', '475', '236',\n",
       "       '770', '1\\xa0036', '101', '198', '510', '740', '77', '330', '990',\n",
       "       '585', '117', '196', '768', '445', '309', '87', '327', '158',\n",
       "       '352', '89', '138', '1\\xa0800', '1\\xa0015', '59', '2\\xa0000',\n",
       "       '184', '73', '121', '232', '316', '123', '296', '402', '190',\n",
       "       '408', '124', '1\\xa0400', '835', '390', '192', '153', '452', '155',\n",
       "       '1\\xa0000', '1\\xa0520', '172', '650', '552', '2\\xa0800', '780',\n",
       "       '725', '315', '292', '416', '850', '212', '468', '548', '900',\n",
       "       '369', '625', '472', '258', '2\\xa0400', '595', '213', '840',\n",
       "       '1\\xa0940', '127', '142', '194', '550', '680', '525', '99', '628',\n",
       "       '2', '133', '444', '3\\xa0500', '484', '688', '355', '1\\xa0530',\n",
       "       '930', '167', '1\\xa0750', '393', '630', '345', '428', '-33', '565',\n",
       "       '672', '256', '257', '690', '870', '775', '546', '590', '880',\n",
       "       '339', '620', '1\\xa0440', '3\\xa0600', '645', '424', '505', '381',\n",
       "       '544', '151', '742', '268', '415', '765', '1\\xa0280', '1\\xa0120',\n",
       "       '810', '890', '143', '193', '1\\xa0701', '448', '375', '705', '141',\n",
       "       '1\\xa0344', '1\\xa0540', '310', '306', '2\\xa0380', '237', '305',\n",
       "       '485', '486', '111', '1\\xa0680', '1\\xa0350', '804', '828', '735',\n",
       "       '137', '3\\xa0900', '1', '920', '385', '515', '545', '464',\n",
       "       '2\\xa0300', '248', '1\\xa0162', '321', '129', '530', '924', '606',\n",
       "       '558', '291', '455', '1\\xa0040', '333', '185'], dtype=object)"
      ]
     },
     "execution_count": 191,
     "metadata": {},
     "output_type": "execute_result"
    }
   ],
   "source": [
    "df_test.property_surface.unique()"
   ]
  },
  {
   "cell_type": "code",
   "execution_count": 190,
   "metadata": {},
   "outputs": [
    {
     "data": {
      "text/plain": [
       "640      1260\n",
       "709      1435\n",
       "922      1190\n",
       "998      1250\n",
       "1707     1600\n",
       "1767     1200\n",
       "2147     1050\n",
       "2303     1200\n",
       "2316     1470\n",
       "2720     1200\n",
       "2772     1080\n",
       "3008     1071\n",
       "3273     1036\n",
       "3390     1260\n",
       "3465     1200\n",
       "3670     1800\n",
       "3698     1015\n",
       "3772     1000\n",
       "4083     1400\n",
       "4565     1000\n",
       "4568     1520\n",
       "4912     1080\n",
       "4939     1800\n",
       "5168     1400\n",
       "5841     1000\n",
       "5972     1190\n",
       "6167     1400\n",
       "6459     1940\n",
       "7183     1000\n",
       "7715     1200\n",
       "         ... \n",
       "11414    1000\n",
       "11454    1400\n",
       "11727    1701\n",
       "11973    1120\n",
       "12380    1344\n",
       "12385    1540\n",
       "12693    1380\n",
       "12929    1120\n",
       "13168    1080\n",
       "13213    1600\n",
       "13214    1000\n",
       "13311    1120\n",
       "13316    1680\n",
       "13586    1350\n",
       "13832    1350\n",
       "14024    1080\n",
       "14585    1080\n",
       "14614    1900\n",
       "14770    1400\n",
       "15133    1400\n",
       "15957    1300\n",
       "16152    1400\n",
       "16296    1162\n",
       "16356    1400\n",
       "16502    1120\n",
       "16763    1260\n",
       "17042    1250\n",
       "17613    1040\n",
       "17778    1000\n",
       "18299    1190\n",
       "Name: property_surface, Length: 82, dtype: int64"
      ]
     },
     "execution_count": 190,
     "metadata": {},
     "output_type": "execute_result"
    }
   ],
   "source": [
    "# ['Jour de Offline At'].apply(lambda x : x.split('-')[0])\n",
    "# owner[owner[\"Languages\"].str.startswith('{') == False]\n",
    "df_test[df_test.property_surface.str.isdigit() == False].property_surface.str[2:].astype(int)+1000\n"
   ]
  },
  {
   "cell_type": "code",
   "execution_count": 210,
   "metadata": {},
   "outputs": [
    {
     "name": "stderr",
     "output_type": "stream",
     "text": [
      "/Users/noesautel/miniconda3/envs/develop/lib/python3.6/site-packages/ipykernel_launcher.py:1: SettingWithCopyWarning:\n",
      "\n",
      "\n",
      "A value is trying to be set on a copy of a slice from a DataFrame.\n",
      "Try using .loc[row_indexer,col_indexer] = value instead\n",
      "\n",
      "See the caveats in the documentation: http://pandas.pydata.org/pandas-docs/stable/indexing.html#indexing-view-versus-copy\n",
      "\n"
     ]
    },
    {
     "ename": "ValueError",
     "evalue": "Must have equal len keys and value when setting with an iterable",
     "output_type": "error",
     "traceback": [
      "\u001b[0;31m---------------------------------------------------------------------------\u001b[0m",
      "\u001b[0;31mValueError\u001b[0m                                Traceback (most recent call last)",
      "\u001b[0;32m<ipython-input-210-260605bd0370>\u001b[0m in \u001b[0;36m<module>\u001b[0;34m\u001b[0m\n\u001b[0;32m----> 1\u001b[0;31m \u001b[0mdf_test\u001b[0m\u001b[0;34m[\u001b[0m\u001b[0;34m(\u001b[0m\u001b[0mdf_test\u001b[0m\u001b[0;34m.\u001b[0m\u001b[0mproperty_surface\u001b[0m\u001b[0;34m.\u001b[0m\u001b[0mstr\u001b[0m\u001b[0;34m.\u001b[0m\u001b[0misdigit\u001b[0m\u001b[0;34m(\u001b[0m\u001b[0;34m)\u001b[0m \u001b[0;34m==\u001b[0m \u001b[0;32mFalse\u001b[0m\u001b[0;34m)\u001b[0m \u001b[0;34m&\u001b[0m \u001b[0;34m(\u001b[0m\u001b[0mdf_test\u001b[0m\u001b[0;34m.\u001b[0m\u001b[0mproperty_surface\u001b[0m\u001b[0;34m.\u001b[0m\u001b[0mstr\u001b[0m\u001b[0;34m.\u001b[0m\u001b[0mstartswith\u001b[0m\u001b[0;34m(\u001b[0m\u001b[0;34m'2'\u001b[0m\u001b[0;34m)\u001b[0m \u001b[0;34m==\u001b[0m \u001b[0;32mTrue\u001b[0m\u001b[0;34m)\u001b[0m\u001b[0;34m]\u001b[0m \u001b[0;34m=\u001b[0m \u001b[0mdf_test\u001b[0m\u001b[0;34m[\u001b[0m\u001b[0;34m(\u001b[0m\u001b[0mdf_test\u001b[0m\u001b[0;34m.\u001b[0m\u001b[0mproperty_surface\u001b[0m\u001b[0;34m.\u001b[0m\u001b[0mstr\u001b[0m\u001b[0;34m.\u001b[0m\u001b[0misdigit\u001b[0m\u001b[0;34m(\u001b[0m\u001b[0;34m)\u001b[0m \u001b[0;34m==\u001b[0m \u001b[0;32mFalse\u001b[0m\u001b[0;34m)\u001b[0m \u001b[0;34m&\u001b[0m \u001b[0;34m(\u001b[0m\u001b[0mdf_test\u001b[0m\u001b[0;34m.\u001b[0m\u001b[0mproperty_surface\u001b[0m\u001b[0;34m.\u001b[0m\u001b[0mstr\u001b[0m\u001b[0;34m.\u001b[0m\u001b[0mstartswith\u001b[0m\u001b[0;34m(\u001b[0m\u001b[0;34m'2'\u001b[0m\u001b[0;34m)\u001b[0m \u001b[0;34m==\u001b[0m \u001b[0;32mTrue\u001b[0m\u001b[0;34m)\u001b[0m\u001b[0;34m]\u001b[0m\u001b[0;34m.\u001b[0m\u001b[0mproperty_surface\u001b[0m\u001b[0;34m.\u001b[0m\u001b[0mstr\u001b[0m\u001b[0;34m[\u001b[0m\u001b[0;36m2\u001b[0m\u001b[0;34m:\u001b[0m\u001b[0;34m]\u001b[0m\u001b[0;34m.\u001b[0m\u001b[0mastype\u001b[0m\u001b[0;34m(\u001b[0m\u001b[0mint\u001b[0m\u001b[0;34m)\u001b[0m\u001b[0;34m+\u001b[0m\u001b[0;36m2000\u001b[0m\u001b[0;34m\u001b[0m\u001b[0;34m\u001b[0m\u001b[0m\n\u001b[0m",
      "\u001b[0;32m~/miniconda3/envs/develop/lib/python3.6/site-packages/pandas/core/frame.py\u001b[0m in \u001b[0;36m__setitem__\u001b[0;34m(self, key, value)\u001b[0m\n\u001b[1;32m   3365\u001b[0m             \u001b[0mself\u001b[0m\u001b[0;34m.\u001b[0m\u001b[0m_setitem_frame\u001b[0m\u001b[0;34m(\u001b[0m\u001b[0mkey\u001b[0m\u001b[0;34m,\u001b[0m \u001b[0mvalue\u001b[0m\u001b[0;34m)\u001b[0m\u001b[0;34m\u001b[0m\u001b[0;34m\u001b[0m\u001b[0m\n\u001b[1;32m   3366\u001b[0m         \u001b[0;32melif\u001b[0m \u001b[0misinstance\u001b[0m\u001b[0;34m(\u001b[0m\u001b[0mkey\u001b[0m\u001b[0;34m,\u001b[0m \u001b[0;34m(\u001b[0m\u001b[0mSeries\u001b[0m\u001b[0;34m,\u001b[0m \u001b[0mnp\u001b[0m\u001b[0;34m.\u001b[0m\u001b[0mndarray\u001b[0m\u001b[0;34m,\u001b[0m \u001b[0mlist\u001b[0m\u001b[0;34m,\u001b[0m \u001b[0mIndex\u001b[0m\u001b[0;34m)\u001b[0m\u001b[0;34m)\u001b[0m\u001b[0;34m:\u001b[0m\u001b[0;34m\u001b[0m\u001b[0;34m\u001b[0m\u001b[0m\n\u001b[0;32m-> 3367\u001b[0;31m             \u001b[0mself\u001b[0m\u001b[0;34m.\u001b[0m\u001b[0m_setitem_array\u001b[0m\u001b[0;34m(\u001b[0m\u001b[0mkey\u001b[0m\u001b[0;34m,\u001b[0m \u001b[0mvalue\u001b[0m\u001b[0;34m)\u001b[0m\u001b[0;34m\u001b[0m\u001b[0;34m\u001b[0m\u001b[0m\n\u001b[0m\u001b[1;32m   3368\u001b[0m         \u001b[0;32melse\u001b[0m\u001b[0;34m:\u001b[0m\u001b[0;34m\u001b[0m\u001b[0;34m\u001b[0m\u001b[0m\n\u001b[1;32m   3369\u001b[0m             \u001b[0;31m# set column\u001b[0m\u001b[0;34m\u001b[0m\u001b[0;34m\u001b[0m\u001b[0;34m\u001b[0m\u001b[0m\n",
      "\u001b[0;32m~/miniconda3/envs/develop/lib/python3.6/site-packages/pandas/core/frame.py\u001b[0m in \u001b[0;36m_setitem_array\u001b[0;34m(self, key, value)\u001b[0m\n\u001b[1;32m   3383\u001b[0m             \u001b[0mindexer\u001b[0m \u001b[0;34m=\u001b[0m \u001b[0mkey\u001b[0m\u001b[0;34m.\u001b[0m\u001b[0mnonzero\u001b[0m\u001b[0;34m(\u001b[0m\u001b[0;34m)\u001b[0m\u001b[0;34m[\u001b[0m\u001b[0;36m0\u001b[0m\u001b[0;34m]\u001b[0m\u001b[0;34m\u001b[0m\u001b[0;34m\u001b[0m\u001b[0m\n\u001b[1;32m   3384\u001b[0m             \u001b[0mself\u001b[0m\u001b[0;34m.\u001b[0m\u001b[0m_check_setitem_copy\u001b[0m\u001b[0;34m(\u001b[0m\u001b[0;34m)\u001b[0m\u001b[0;34m\u001b[0m\u001b[0;34m\u001b[0m\u001b[0m\n\u001b[0;32m-> 3385\u001b[0;31m             \u001b[0mself\u001b[0m\u001b[0;34m.\u001b[0m\u001b[0mloc\u001b[0m\u001b[0;34m.\u001b[0m\u001b[0m_setitem_with_indexer\u001b[0m\u001b[0;34m(\u001b[0m\u001b[0mindexer\u001b[0m\u001b[0;34m,\u001b[0m \u001b[0mvalue\u001b[0m\u001b[0;34m)\u001b[0m\u001b[0;34m\u001b[0m\u001b[0;34m\u001b[0m\u001b[0m\n\u001b[0m\u001b[1;32m   3386\u001b[0m         \u001b[0;32melse\u001b[0m\u001b[0;34m:\u001b[0m\u001b[0;34m\u001b[0m\u001b[0;34m\u001b[0m\u001b[0m\n\u001b[1;32m   3387\u001b[0m             \u001b[0;32mif\u001b[0m \u001b[0misinstance\u001b[0m\u001b[0;34m(\u001b[0m\u001b[0mvalue\u001b[0m\u001b[0;34m,\u001b[0m \u001b[0mDataFrame\u001b[0m\u001b[0;34m)\u001b[0m\u001b[0;34m:\u001b[0m\u001b[0;34m\u001b[0m\u001b[0;34m\u001b[0m\u001b[0m\n",
      "\u001b[0;32m~/miniconda3/envs/develop/lib/python3.6/site-packages/pandas/core/indexing.py\u001b[0m in \u001b[0;36m_setitem_with_indexer\u001b[0;34m(self, indexer, value)\u001b[0m\n\u001b[1;32m    609\u001b[0m \u001b[0;34m\u001b[0m\u001b[0m\n\u001b[1;32m    610\u001b[0m                     \u001b[0;32mif\u001b[0m \u001b[0mlen\u001b[0m\u001b[0;34m(\u001b[0m\u001b[0mlabels\u001b[0m\u001b[0;34m)\u001b[0m \u001b[0;34m!=\u001b[0m \u001b[0mlen\u001b[0m\u001b[0;34m(\u001b[0m\u001b[0mvalue\u001b[0m\u001b[0;34m)\u001b[0m\u001b[0;34m:\u001b[0m\u001b[0;34m\u001b[0m\u001b[0;34m\u001b[0m\u001b[0m\n\u001b[0;32m--> 611\u001b[0;31m                         raise ValueError('Must have equal len keys and value '\n\u001b[0m\u001b[1;32m    612\u001b[0m                                          'when setting with an iterable')\n\u001b[1;32m    613\u001b[0m \u001b[0;34m\u001b[0m\u001b[0m\n",
      "\u001b[0;31mValueError\u001b[0m: Must have equal len keys and value when setting with an iterable"
     ]
    }
   ],
   "source": [
    "df_test[(df_test.property_surface.str.isdigit() == False) & (df_test.property_surface.str.startswith('2') == True)] = df_test[(df_test.property_surface.str.isdigit() == False) & (df_test.property_surface.str.startswith('2') == True)].property_surface.str[2:].astype(int)+2000"
   ]
  },
  {
   "cell_type": "code",
   "execution_count": 208,
   "metadata": {},
   "outputs": [
    {
     "data": {
      "text/plain": [
       "array(['30', '45', '10', '35', '28', '260', '200', '21', '120', '16',\n",
       "       '24', '25', '18', '42', '60', '104', '70', '164', '55', '575',\n",
       "       '288', '175', '17', '23', '26', '27', '15', '80', '50', '39', '72',\n",
       "       '243', '29', '32', '118', '20', '9', '33', '222', '280', '54',\n",
       "       '300', '36', '46', '130', '106', '465', '132', '460', '13', '34',\n",
       "       '37', '344', '270', '231', '219', '52', '540', '210', '19', '392',\n",
       "       '100', '126', '304', '110', '65', '31', '150', '144', '22', '14',\n",
       "       '160', '197', '180', '234', '40', '62', '265', '12', '360', '11',\n",
       "       '228', '82', '75', '90', '48', '340', '92', '84', '320', '240',\n",
       "       '41', '122', '380', '85', '47', '710', '112', '276', '78', '249',\n",
       "       '255', '108', '230', '64', '279', '74', '95', '102', '66', '86',\n",
       "       '61', '450', '140', '38', '94', '600', '67', '105', '400', '71',\n",
       "       '490', '57', '170', '182', '49', '156', '44', '264', '207', '58',\n",
       "       '720', '960', '480', '171', '520', '201', '404', '128', '76',\n",
       "       '204', '1\\xa0260', '318', '116', '51', '134', '492', '114',\n",
       "       '1\\xa0435', '356', '368', '68', '251', '53', '43', '284', '430',\n",
       "       '162', '152', '308', '420', '146', '1\\xa0190', '272', '195', '97',\n",
       "       '336', '1\\xa0250', '91', '225', '350', '372', '69', '81', '495',\n",
       "       '216', '177', '261', '154', '285', '244', '760', '63', '220',\n",
       "       '376', '136', '165', '500', '410', '816', '135', '113', '294',\n",
       "       '96', '98', '440', '174', '364', '115', '412', '189', '166',\n",
       "       '1\\xa0600', '246', '312', '183', '1\\xa0200', '800', '618', '560',\n",
       "       '148', '119', '125', '250', '159', '83', '328', '88', '700', '388',\n",
       "       '0', '580', '103', '1\\xa0050', '348', '252', '555', '405', '178',\n",
       "       '1\\xa0470', '145', '282', '384', '640', '56', '635', '432', '303',\n",
       "       '660', '147', '79', '168', '176', '93', '396', '332', '324',\n",
       "       '1\\xa0080', '186', '750', '535', '314', '1\\xa0071', '475', '236',\n",
       "       '770', '1\\xa0036', '101', '198', '510', '740', '77', '330', '990',\n",
       "       '585', '117', '196', '768', '445', '309', '87', '327', '158',\n",
       "       '352', '89', '138', '1\\xa0800', '1\\xa0015', '59', '2\\xa0000',\n",
       "       '184', '73', '121', '232', '316', '123', '296', '402', '190',\n",
       "       '408', '124', '1\\xa0400', '835', '390', '192', '153', '452', '155',\n",
       "       '1\\xa0000', '1\\xa0520', '172', '650', '552', '2\\xa0800', '780',\n",
       "       '725', '315', '292', '416', '850', '212', '468', '548', '900',\n",
       "       '369', '625', '472', '258', '2\\xa0400', '595', '213', '840',\n",
       "       '1\\xa0940', '127', '142', '194', '550', '680', '525', '99', '628',\n",
       "       '2', '133', '444', '3\\xa0500', '484', '688', '355', '1\\xa0530',\n",
       "       '930', '167', '1\\xa0750', '393', '630', '345', '428', '-33', '565',\n",
       "       '672', '256', '257', '690', '870', '775', '546', '590', '880',\n",
       "       '339', '620', '1\\xa0440', '3\\xa0600', '645', '424', '505', '381',\n",
       "       '544', '151', '742', '268', '415', '765', '1\\xa0280', '1\\xa0120',\n",
       "       '810', '890', '143', '193', '1\\xa0701', '448', '375', '705', '141',\n",
       "       '1\\xa0344', '1\\xa0540', '310', '306', '2\\xa0380', '237', '305',\n",
       "       '485', '486', '111', '1\\xa0680', '1\\xa0350', '804', '828', '735',\n",
       "       '137', '3\\xa0900', '1', '920', '385', '515', '545', '464',\n",
       "       '2\\xa0300', '248', '1\\xa0162', '321', '129', '530', '924', '606',\n",
       "       '558', '291', '455', '1\\xa0040', '333', '185'], dtype=object)"
      ]
     },
     "execution_count": 208,
     "metadata": {},
     "output_type": "execute_result"
    }
   ],
   "source": [
    "df_test.property_surface.astype(str).unique()"
   ]
  },
  {
   "cell_type": "code",
   "execution_count": 101,
   "metadata": {},
   "outputs": [
    {
     "data": {
      "text/plain": [
       "1    NaN\n",
       "Name: property_surface, dtype: object"
      ]
     },
     "execution_count": 101,
     "metadata": {},
     "output_type": "execute_result"
    }
   ],
   "source": [
    "\n",
    "df_test.head(1)"
   ]
  },
  {
   "cell_type": "code",
   "execution_count": 99,
   "metadata": {},
   "outputs": [
    {
     "name": "stdout",
     "output_type": "stream",
     "text": [
      "<class 'pandas.core.frame.DataFrame'>\n",
      "RangeIndex: 18684 entries, 1 to 18684\n",
      "Data columns (total 14 columns):\n",
      "id_property               18684 non-null object\n",
      "id_owner                  18684 non-null object\n",
      "furnished                 18684 non-null object\n",
      "max_tenant_number         18684 non-null int64\n",
      "property_type             18684 non-null object\n",
      "status                    18684 non-null object\n",
      "bedrooms_count            17305 non-null float64\n",
      "ville                     18424 non-null object\n",
      "property_surface          18684 non-null object\n",
      "rooms_count               18684 non-null float64\n",
      "rent                      17305 non-null object\n",
      "offline_date              15455 non-null datetime64[ns]\n",
      "online_date               17495 non-null datetime64[ns]\n",
      "proprety_creation_date    18684 non-null datetime64[ns]\n",
      "dtypes: datetime64[ns](3), float64(2), int64(1), object(8)\n",
      "memory usage: 2.0+ MB\n"
     ]
    }
   ],
   "source": [
    "df_test.info()"
   ]
  },
  {
   "cell_type": "code",
   "execution_count": 147,
   "metadata": {},
   "outputs": [
    {
     "data": {
      "text/plain": [
       "1         30\n",
       "2         45\n",
       "3         10\n",
       "4         35\n",
       "5         35\n",
       "6         28\n",
       "7        260\n",
       "8        200\n",
       "9         21\n",
       "10       120\n",
       "11        16\n",
       "12        24\n",
       "13        28\n",
       "14        25\n",
       "15        18\n",
       "16        42\n",
       "17        60\n",
       "18       104\n",
       "19        42\n",
       "20        70\n",
       "21        35\n",
       "22       164\n",
       "23        55\n",
       "24        18\n",
       "25       575\n",
       "26       288\n",
       "27       175\n",
       "28       120\n",
       "29        17\n",
       "30        23\n",
       "        ... \n",
       "18655     25\n",
       "18656     24\n",
       "18657     31\n",
       "18658     20\n",
       "18659     18\n",
       "18660     25\n",
       "18661     17\n",
       "18662     25\n",
       "18663     23\n",
       "18664     22\n",
       "18665     23\n",
       "18666     36\n",
       "18667    150\n",
       "18668     80\n",
       "18669    168\n",
       "18670    201\n",
       "18671     28\n",
       "18672     17\n",
       "18673    380\n",
       "18674     18\n",
       "18675     22\n",
       "18676     28\n",
       "18677     20\n",
       "18678     26\n",
       "18679     33\n",
       "18680     23\n",
       "18681     23\n",
       "18682     10\n",
       "18683     90\n",
       "18684     42\n",
       "Name: property_surface, Length: 18684, dtype: object"
      ]
     },
     "execution_count": 147,
     "metadata": {},
     "output_type": "execute_result"
    }
   ],
   "source": [
    "code={'\\\\xa':\" \"}\n",
    "\n",
    "#df_test.property_surface = \n",
    "df_test.property_surface.split()"
   ]
  },
  {
   "cell_type": "code",
   "execution_count": null,
   "metadata": {},
   "outputs": [],
   "source": []
  },
  {
   "cell_type": "code",
   "execution_count": 80,
   "metadata": {},
   "outputs": [
    {
     "data": {
      "text/html": [
       "<div>\n",
       "<style scoped>\n",
       "    .dataframe tbody tr th:only-of-type {\n",
       "        vertical-align: middle;\n",
       "    }\n",
       "\n",
       "    .dataframe tbody tr th {\n",
       "        vertical-align: top;\n",
       "    }\n",
       "\n",
       "    .dataframe thead th {\n",
       "        text-align: right;\n",
       "    }\n",
       "</style>\n",
       "<table border=\"1\" class=\"dataframe\">\n",
       "  <thead>\n",
       "    <tr style=\"text-align: right;\">\n",
       "      <th></th>\n",
       "      <th>id_property</th>\n",
       "      <th>id_owner</th>\n",
       "      <th>furnished</th>\n",
       "      <th>max_tenant_number</th>\n",
       "      <th>property_type</th>\n",
       "      <th>status</th>\n",
       "      <th>bedrooms_count</th>\n",
       "      <th>ville</th>\n",
       "      <th>property_surface</th>\n",
       "      <th>rooms_count</th>\n",
       "      <th>rent</th>\n",
       "      <th>offline_date</th>\n",
       "      <th>online_date</th>\n",
       "      <th>proprety_creation_date</th>\n",
       "    </tr>\n",
       "  </thead>\n",
       "  <tbody>\n",
       "    <tr>\n",
       "      <th>640</th>\n",
       "      <td>1d13b-76be-414e-baf9-b24ed4587</td>\n",
       "      <td>e9d5d-b763-460f-b2d3-a5c572109</td>\n",
       "      <td>True</td>\n",
       "      <td>9</td>\n",
       "      <td>house</td>\n",
       "      <td>online</td>\n",
       "      <td>81.0</td>\n",
       "      <td>Lille</td>\n",
       "      <td>1 260</td>\n",
       "      <td>108.0</td>\n",
       "      <td>30 132</td>\n",
       "      <td>2018-08-16</td>\n",
       "      <td>2019-06-04</td>\n",
       "      <td>2017-07-26</td>\n",
       "    </tr>\n",
       "    <tr>\n",
       "      <th>3390</th>\n",
       "      <td>7ecfb-39e3-47a0-a7cf-37589ce24</td>\n",
       "      <td>fd7ef-1532-40d8-acff-843457b86</td>\n",
       "      <td>True</td>\n",
       "      <td>7</td>\n",
       "      <td>house</td>\n",
       "      <td>offline</td>\n",
       "      <td>49.0</td>\n",
       "      <td>Le Havre</td>\n",
       "      <td>1 260</td>\n",
       "      <td>49.0</td>\n",
       "      <td>19 600</td>\n",
       "      <td>2018-09-30</td>\n",
       "      <td>2018-07-16</td>\n",
       "      <td>2018-07-10</td>\n",
       "    </tr>\n",
       "    <tr>\n",
       "      <th>10962</th>\n",
       "      <td>64764-c2e2-4a12-be50-16b87a56c</td>\n",
       "      <td>44747-1c42-4651-8ce7-121752c4a</td>\n",
       "      <td>True</td>\n",
       "      <td>7</td>\n",
       "      <td>house</td>\n",
       "      <td>online</td>\n",
       "      <td>49.0</td>\n",
       "      <td>Bordeaux</td>\n",
       "      <td>1 260</td>\n",
       "      <td>56.0</td>\n",
       "      <td>25 305</td>\n",
       "      <td>2019-03-27</td>\n",
       "      <td>2019-05-20</td>\n",
       "      <td>2019-03-05</td>\n",
       "    </tr>\n",
       "    <tr>\n",
       "      <th>16763</th>\n",
       "      <td>e81fd-60e8-4fdc-91d7-885eded7b</td>\n",
       "      <td>8a55f-a1a8-4895-b72e-7c8265d78</td>\n",
       "      <td>True</td>\n",
       "      <td>2</td>\n",
       "      <td>house</td>\n",
       "      <td>online</td>\n",
       "      <td>36.0</td>\n",
       "      <td>Cergy</td>\n",
       "      <td>1 260</td>\n",
       "      <td>48.0</td>\n",
       "      <td>2 100,000000000</td>\n",
       "      <td>NaT</td>\n",
       "      <td>2019-03-29</td>\n",
       "      <td>2019-02-09</td>\n",
       "    </tr>\n",
       "  </tbody>\n",
       "</table>\n",
       "</div>"
      ],
      "text/plain": [
       "                          id_property                        id_owner  \\\n",
       "640    1d13b-76be-414e-baf9-b24ed4587  e9d5d-b763-460f-b2d3-a5c572109   \n",
       "3390   7ecfb-39e3-47a0-a7cf-37589ce24  fd7ef-1532-40d8-acff-843457b86   \n",
       "10962  64764-c2e2-4a12-be50-16b87a56c  44747-1c42-4651-8ce7-121752c4a   \n",
       "16763  e81fd-60e8-4fdc-91d7-885eded7b  8a55f-a1a8-4895-b72e-7c8265d78   \n",
       "\n",
       "      furnished  max_tenant_number property_type   status  bedrooms_count  \\\n",
       "640        True                  9         house   online            81.0   \n",
       "3390       True                  7         house  offline            49.0   \n",
       "10962      True                  7         house   online            49.0   \n",
       "16763      True                  2         house   online            36.0   \n",
       "\n",
       "          ville property_surface  rooms_count             rent offline_date  \\\n",
       "640       Lille            1 260        108.0           30 132   2018-08-16   \n",
       "3390   Le Havre            1 260         49.0           19 600   2018-09-30   \n",
       "10962  Bordeaux            1 260         56.0           25 305   2019-03-27   \n",
       "16763     Cergy            1 260         48.0  2 100,000000000          NaT   \n",
       "\n",
       "      online_date proprety_creation_date  \n",
       "640    2019-06-04             2017-07-26  \n",
       "3390   2018-07-16             2018-07-10  \n",
       "10962  2019-05-20             2019-03-05  \n",
       "16763  2019-03-29             2019-02-09  "
      ]
     },
     "execution_count": 80,
     "metadata": {},
     "output_type": "execute_result"
    }
   ],
   "source": [
    "df_prop[df_prop.property_surface == '1\\xa0260']"
   ]
  },
  {
   "cell_type": "code",
   "execution_count": 78,
   "metadata": {},
   "outputs": [
    {
     "data": {
      "text/plain": [
       "array(['30', '45', '10', '35', '28', '260', '200', '21', '120', '16',\n",
       "       '24', '25', '18', '42', '60', '104', '70', '164', '55', '575',\n",
       "       '288', '175', '17', '23', '26', '27', '15', '80', '50', '39', '72',\n",
       "       '243', '29', '32', '118', '20', '9', '33', '222', '280', '54',\n",
       "       '300', '36', '46', '130', '106', '465', '132', '460', '13', '34',\n",
       "       '37', '344', '270', '231', '219', '52', '540', '210', '19', '392',\n",
       "       '100', '126', '304', '110', '65', '31', '150', '144', '22', '14',\n",
       "       '160', '197', '180', '234', '40', '62', '265', '12', '360', '11',\n",
       "       '228', '82', '75', '90', '48', '340', '92', '84', '320', '240',\n",
       "       '41', '122', '380', '85', '47', '710', '112', '276', '78', '249',\n",
       "       '255', '108', '230', '64', '279', '74', '95', '102', '66', '86',\n",
       "       '61', '450', '140', '38', '94', '600', '67', '105', '400', '71',\n",
       "       '490', '57', '170', '182', '49', '156', '44', '264', '207', '58',\n",
       "       '720', '960', '480', '171', '520', '201', '404', '128', '76',\n",
       "       '204', '1\\xa0260', '318', '116', '51', '134', '492', '114',\n",
       "       '1\\xa0435', '356', '368', '68', '251', '53', '43', '284', '430',\n",
       "       '162', '152', '308', '420', '146', '1\\xa0190', '272', '195', '97',\n",
       "       '336', '1\\xa0250', '91', '225', '350', '372', '69', '81', '495',\n",
       "       '216', '177', '261', '154', '285', '244', '760', '63', '220',\n",
       "       '376', '136', '165', '500', '410', '816', '135', '113', '294',\n",
       "       '96', '98', '440', '174', '364', '115', '412', '189', '166',\n",
       "       '1\\xa0600', '246', '312', '183', '1\\xa0200', '800', '618', '560',\n",
       "       '148', '119', '125', '250', '159', '83', '328', '88', '700', '388',\n",
       "       '0', '580', '103', '1\\xa0050', '348', '252', '555', '405', '178',\n",
       "       '1\\xa0470', '145', '282', '384', '640', '56', '635', '432', '303',\n",
       "       '660', '147', '79', '168', '176', '93', '396', '332', '324',\n",
       "       '1\\xa0080', '186', '750', '535', '314', '1\\xa0071', '475', '236',\n",
       "       '770', '1\\xa0036', '101', '198', '510', '740', '77', '330', '990',\n",
       "       '585', '117', '196', '768', '445', '309', '87', '327', '158',\n",
       "       '352', '89', '138', '1\\xa0800', '1\\xa0015', '59', '2\\xa0000',\n",
       "       '184', '73', '121', '232', '316', '123', '296', '402', '190',\n",
       "       '408', '124', '1\\xa0400', '835', '390', '192', '153', '452', '155',\n",
       "       '1\\xa0000', '1\\xa0520', '172', '650', '552', '2\\xa0800', '780',\n",
       "       '725', '315', '292', '416', '850', '212', '468', '548', '900',\n",
       "       '369', '625', '472', '258', '2\\xa0400', '595', '213', '840',\n",
       "       '1\\xa0940', '127', '142', '194', '550', '680', '525', '99', '628',\n",
       "       '2', '133', '444', '3\\xa0500', '484', '688', '355', '1\\xa0530',\n",
       "       '930', '167', '1\\xa0750', '393', '630', '345', '428', '-33', '565',\n",
       "       '672', '256', '257', '690', '870', '775', '546', '590', '880',\n",
       "       '339', '620', '1\\xa0440', '3\\xa0600', '645', '424', '505', '381',\n",
       "       '544', '151', '742', '268', '415', '765', '1\\xa0280', '1\\xa0120',\n",
       "       '810', '890', '143', '193', '1\\xa0701', '448', '375', '705', '141',\n",
       "       '1\\xa0344', '1\\xa0540', '310', '306', '2\\xa0380', '237', '305',\n",
       "       '485', '486', '111', '1\\xa0680', '1\\xa0350', '804', '828', '735',\n",
       "       '137', '3\\xa0900', '1', '920', '385', '515', '545', '464',\n",
       "       '2\\xa0300', '248', '1\\xa0162', '321', '129', '530', '924', '606',\n",
       "       '558', '291', '455', '1\\xa0040', '333', '185'], dtype=object)"
      ]
     },
     "execution_count": 78,
     "metadata": {},
     "output_type": "execute_result"
    }
   ],
   "source": [
    "df_prop.property_surface.unique()"
   ]
  },
  {
   "cell_type": "code",
   "execution_count": 72,
   "metadata": {},
   "outputs": [
    {
     "name": "stdout",
     "output_type": "stream",
     "text": [
      "<class 'pandas.core.frame.DataFrame'>\n",
      "RangeIndex: 18684 entries, 1 to 18684\n",
      "Data columns (total 14 columns):\n",
      "id_property               18684 non-null object\n",
      "id_owner                  18684 non-null object\n",
      "furnished                 18684 non-null object\n",
      "max_tenant_number         18684 non-null int64\n",
      "property_type             18684 non-null object\n",
      "status                    18684 non-null object\n",
      "bedrooms_count            17305 non-null float64\n",
      "ville                     18424 non-null object\n",
      "property_surface          18684 non-null object\n",
      "rooms_count               18684 non-null float64\n",
      "rent                      17305 non-null object\n",
      "offline_date              15455 non-null datetime64[ns]\n",
      "online_date               17495 non-null datetime64[ns]\n",
      "proprety_creation_date    18684 non-null datetime64[ns]\n",
      "dtypes: datetime64[ns](3), float64(2), int64(1), object(8)\n",
      "memory usage: 2.0+ MB\n"
     ]
    }
   ],
   "source": [
    "df_prop.info()"
   ]
  },
  {
   "cell_type": "code",
   "execution_count": 28,
   "metadata": {},
   "outputs": [
    {
     "ename": "SyntaxError",
     "evalue": "invalid syntax (<ipython-input-28-193f304fa3db>, line 1)",
     "output_type": "error",
     "traceback": [
      "\u001b[0;36m  File \u001b[0;32m\"<ipython-input-28-193f304fa3db>\"\u001b[0;36m, line \u001b[0;32m1\u001b[0m\n\u001b[0;31m    -> traduire les timedelta en int\u001b[0m\n\u001b[0m     ^\u001b[0m\n\u001b[0;31mSyntaxError\u001b[0m\u001b[0;31m:\u001b[0m invalid syntax\n"
     ]
    }
   ],
   "source": [
    "-> changer la data des proprety surface"
   ]
  },
  {
   "cell_type": "code",
   "execution_count": null,
   "metadata": {},
   "outputs": [],
   "source": []
  }
 ],
 "metadata": {
  "kernelspec": {
   "display_name": "Python 3",
   "language": "python",
   "name": "python3"
  },
  "language_info": {
   "codemirror_mode": {
    "name": "ipython",
    "version": 3
   },
   "file_extension": ".py",
   "mimetype": "text/x-python",
   "name": "python",
   "nbconvert_exporter": "python",
   "pygments_lexer": "ipython3",
   "version": "3.6.7"
  }
 },
 "nbformat": 4,
 "nbformat_minor": 2
}
