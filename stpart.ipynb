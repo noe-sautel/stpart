{
 "cells": [
  {
   "cell_type": "markdown",
   "metadata": {},
   "source": [
    "# Cleaning"
   ]
  },
  {
   "cell_type": "code",
   "execution_count": 67,
   "metadata": {},
   "outputs": [],
   "source": [
    "import chardet\n",
    "import pandas as pd\n",
    "import datetime"
   ]
  },
  {
   "cell_type": "code",
   "execution_count": 68,
   "metadata": {},
   "outputs": [],
   "source": [
    "#with open('data/owner.csv', 'rb') as f:\n",
    "#    result = chardet.detect(f.read())  # or readline if the file is large\n",
    "#\n",
    "#print(result)"
   ]
  },
  {
   "cell_type": "code",
   "execution_count": 69,
   "metadata": {},
   "outputs": [],
   "source": [
    "# display full url for user_profile for instance\n",
    "#pd.set_option('display.max_colwidth', 1000)"
   ]
  },
  {
   "cell_type": "code",
   "execution_count": 70,
   "metadata": {},
   "outputs": [],
   "source": [
    "owner = pd.read_csv(\"data/owner.csv\",sep=';', encoding='ISO-8859-1')\n",
    "prop = pd.read_csv(\"data/property.csv\", sep=';', encoding='ISO-8859-1')"
   ]
  },
  {
   "cell_type": "code",
   "execution_count": 6,
   "metadata": {},
   "outputs": [
    {
     "name": "stdout",
     "output_type": "stream",
     "text": [
      "shape of owner is :(15127, 7)\n",
      "shape of prop is :(18686, 14)\n"
     ]
    }
   ],
   "source": [
    "print(\"shape of owner is :\" + str(owner.shape))\n",
    "print(\"shape of prop is :\" + str(prop.shape))"
   ]
  },
  {
   "cell_type": "code",
   "execution_count": 7,
   "metadata": {},
   "outputs": [],
   "source": [
    "# vérification des années\n",
    "#owner[\"Année de Birthdate\"].unique()"
   ]
  },
  {
   "cell_type": "code",
   "execution_count": 8,
   "metadata": {},
   "outputs": [],
   "source": [
    "# make a dictionary that maps the month name in french to a number\n",
    "french_to_eng = {'janvier':'1','février':'2','mars': '3','avril': '4','mai':'5','juin':'6','juillet': '7','août': '8','septembre': '9','octobre':'10','novembre':'11','décembre':'12'}\n",
    "\n",
    "# make new columsn for day month and year. For month, map the french name to month numbers\n",
    "owner['day_sign_up'] = owner['Jour de Created At User'].apply(lambda x : x.split(' ')[0])\n",
    "owner['month_sign_up'] = owner['Jour de Created At User'].apply(lambda x : x.split(' ')[1]).map(french_to_eng)\n",
    "owner['year_sign_up'] = owner['Jour de Created At User'].apply(lambda x : x.split(' ')[2])\n",
    "\n",
    "# make date time column from year, month and day.\n",
    "owner['user_sign_up_date'] = pd.to_datetime(owner['year_sign_up']+'-'+owner['month_sign_up']+'-'+owner['day_sign_up'],format='%Y-%m-%d', errors='ignore')\n",
    "\n",
    "owner = owner.drop(columns=['day_sign_up', 'month_sign_up', 'year_sign_up'])"
   ]
  },
  {
   "cell_type": "code",
   "execution_count": 9,
   "metadata": {},
   "outputs": [],
   "source": [
    "owner['Jour de Last Login Date'].fillna(owner['Jour de Created At User'], inplace=True)"
   ]
  },
  {
   "cell_type": "code",
   "execution_count": 10,
   "metadata": {},
   "outputs": [],
   "source": [
    "# make new columsn for day month and year. For month, map the french name to month numbers\n",
    "owner['day_sign_in'] = owner['Jour de Last Login Date'].apply(lambda x : x.split(' ')[0])\n",
    "owner['month_sign_in'] = owner['Jour de Last Login Date'].apply(lambda x : x.split(' ')[1]).map(french_to_eng)\n",
    "owner['year_sign_in'] = owner['Jour de Last Login Date'].apply(lambda x : x.split(' ')[2])\n",
    "\n",
    "# make date time column from year, month and day.\n",
    "owner['user_sign_in_date'] = pd.to_datetime(owner['year_sign_in']+'-'+owner['month_sign_in']+'-'+owner['day_sign_in'],format='%Y-%m-%d', errors='ignore')\n",
    "\n",
    "owner = owner.drop(columns=['day_sign_in', 'month_sign_in', 'year_sign_in'])"
   ]
  },
  {
   "cell_type": "code",
   "execution_count": 11,
   "metadata": {},
   "outputs": [],
   "source": [
    "owner['user_sign_in_date'] = pd.to_datetime(owner['user_sign_in_date'])\n",
    "owner['user_sign_up_date'] = pd.to_datetime(owner['user_sign_up_date'])"
   ]
  },
  {
   "cell_type": "code",
   "execution_count": 12,
   "metadata": {},
   "outputs": [],
   "source": [
    "owner['today_date']= datetime.date.today()\n",
    "owner['today_date']= pd.to_datetime(owner.today_date)"
   ]
  },
  {
   "cell_type": "code",
   "execution_count": 13,
   "metadata": {},
   "outputs": [],
   "source": [
    "owner['seniority'] = owner.today_date - owner.user_sign_in_date\n",
    "owner['days_since_last_login'] = owner.today_date - owner.user_sign_up_date\n",
    "\n",
    "# quand owner['days_since_last_login'] vaut 0, on émet l'hypothèse que le compte est inactif"
   ]
  },
  {
   "cell_type": "code",
   "execution_count": 14,
   "metadata": {},
   "outputs": [],
   "source": [
    "owner['year'] = datetime.date.today().year\n",
    "owner['Année de Birthdate'] = owner['Année de Birthdate'].fillna(datetime.date.today().year)\n",
    "owner['age'] = owner.year - owner['Année de Birthdate']\n",
    "owner = owner.drop(columns=['Année de Birthdate', 'year', 'Jour de Created At User', 'Jour de Last Login Date'])"
   ]
  },
  {
   "cell_type": "code",
   "execution_count": 15,
   "metadata": {},
   "outputs": [
    {
     "data": {
      "text/html": [
       "<div>\n",
       "<style scoped>\n",
       "    .dataframe tbody tr th:only-of-type {\n",
       "        vertical-align: middle;\n",
       "    }\n",
       "\n",
       "    .dataframe tbody tr th {\n",
       "        vertical-align: top;\n",
       "    }\n",
       "\n",
       "    .dataframe thead th {\n",
       "        text-align: right;\n",
       "    }\n",
       "</style>\n",
       "<table border=\"1\" class=\"dataframe\">\n",
       "  <thead>\n",
       "    <tr style=\"text-align: right;\">\n",
       "      <th></th>\n",
       "      <th>Owner ID</th>\n",
       "      <th>Gender</th>\n",
       "      <th>Languages</th>\n",
       "      <th>Country</th>\n",
       "      <th>user_sign_up_date</th>\n",
       "      <th>user_sign_in_date</th>\n",
       "      <th>today_date</th>\n",
       "      <th>seniority</th>\n",
       "      <th>days_since_last_login</th>\n",
       "      <th>age</th>\n",
       "    </tr>\n",
       "  </thead>\n",
       "  <tbody>\n",
       "    <tr>\n",
       "      <th>0</th>\n",
       "      <td>0a0e4-ad50-4b3a-81fd-a29ed0000</td>\n",
       "      <td>male</td>\n",
       "      <td>[]</td>\n",
       "      <td>NaN</td>\n",
       "      <td>2018-05-12</td>\n",
       "      <td>2019-02-19</td>\n",
       "      <td>2019-06-15</td>\n",
       "      <td>116 days</td>\n",
       "      <td>399 days</td>\n",
       "      <td>0.0</td>\n",
       "    </tr>\n",
       "    <tr>\n",
       "      <th>1</th>\n",
       "      <td>0a1e1-1cfe-46d0-9069-e567bc9c3</td>\n",
       "      <td>female</td>\n",
       "      <td>[]</td>\n",
       "      <td>NaN</td>\n",
       "      <td>2018-06-11</td>\n",
       "      <td>2018-06-26</td>\n",
       "      <td>2019-06-15</td>\n",
       "      <td>354 days</td>\n",
       "      <td>369 days</td>\n",
       "      <td>0.0</td>\n",
       "    </tr>\n",
       "    <tr>\n",
       "      <th>2</th>\n",
       "      <td>0a2b8-f8c2-4a2c-b6f8-d2f901abe</td>\n",
       "      <td>female</td>\n",
       "      <td>[]</td>\n",
       "      <td>NaN</td>\n",
       "      <td>2018-04-17</td>\n",
       "      <td>2018-04-17</td>\n",
       "      <td>2019-06-15</td>\n",
       "      <td>424 days</td>\n",
       "      <td>424 days</td>\n",
       "      <td>0.0</td>\n",
       "    </tr>\n",
       "    <tr>\n",
       "      <th>3</th>\n",
       "      <td>0a2bd-8842-4067-b52e-0a8922be2</td>\n",
       "      <td>female</td>\n",
       "      <td>[\"en\", \"fr\"]</td>\n",
       "      <td>NaN</td>\n",
       "      <td>2017-06-26</td>\n",
       "      <td>2017-07-17</td>\n",
       "      <td>2019-06-15</td>\n",
       "      <td>698 days</td>\n",
       "      <td>719 days</td>\n",
       "      <td>0.0</td>\n",
       "    </tr>\n",
       "    <tr>\n",
       "      <th>4</th>\n",
       "      <td>0a3ef-f75e-463c-b52b-fa39184d5</td>\n",
       "      <td>male</td>\n",
       "      <td>[]</td>\n",
       "      <td>NaN</td>\n",
       "      <td>2018-03-09</td>\n",
       "      <td>2018-03-09</td>\n",
       "      <td>2019-06-15</td>\n",
       "      <td>463 days</td>\n",
       "      <td>463 days</td>\n",
       "      <td>0.0</td>\n",
       "    </tr>\n",
       "  </tbody>\n",
       "</table>\n",
       "</div>"
      ],
      "text/plain": [
       "                         Owner ID  Gender     Languages Country  \\\n",
       "0  0a0e4-ad50-4b3a-81fd-a29ed0000    male            []     NaN   \n",
       "1  0a1e1-1cfe-46d0-9069-e567bc9c3  female            []     NaN   \n",
       "2  0a2b8-f8c2-4a2c-b6f8-d2f901abe  female            []     NaN   \n",
       "3  0a2bd-8842-4067-b52e-0a8922be2  female  [\"en\", \"fr\"]     NaN   \n",
       "4  0a3ef-f75e-463c-b52b-fa39184d5    male            []     NaN   \n",
       "\n",
       "  user_sign_up_date user_sign_in_date today_date seniority  \\\n",
       "0        2018-05-12        2019-02-19 2019-06-15  116 days   \n",
       "1        2018-06-11        2018-06-26 2019-06-15  354 days   \n",
       "2        2018-04-17        2018-04-17 2019-06-15  424 days   \n",
       "3        2017-06-26        2017-07-17 2019-06-15  698 days   \n",
       "4        2018-03-09        2018-03-09 2019-06-15  463 days   \n",
       "\n",
       "  days_since_last_login  age  \n",
       "0              399 days  0.0  \n",
       "1              369 days  0.0  \n",
       "2              424 days  0.0  \n",
       "3              719 days  0.0  \n",
       "4              463 days  0.0  "
      ]
     },
     "execution_count": 15,
     "metadata": {},
     "output_type": "execute_result"
    }
   ],
   "source": [
    "owner.head()"
   ]
  },
  {
   "cell_type": "code",
   "execution_count": 16,
   "metadata": {},
   "outputs": [
    {
     "name": "stdout",
     "output_type": "stream",
     "text": [
      "(15099, 10)\n",
      "(15127, 10)\n",
      "(28, 10)\n"
     ]
    }
   ],
   "source": [
    "# Je ne traite pas les 28 lignes présentant des erreurs de formatages\n",
    "df_owner = owner[owner[\"Languages\"].str.startswith('{') == False]\n",
    "df_owner = df_owner.rename(columns={\"owner_id\":\"id_owner\",\"gender\":\"gaaender\",\"languages\":\"languages\",\"country\":\"country\",\"user_sign_up_date\":\"user_sign_up_date\",\"user_sign_in_date\":\"user_sign_in_date\",\"today_date\":\"today_date\",\"seniority\":\"seniority\",\"days_since_last_login\":\"days_since_last_login\",\"age\": \"age\"})\n",
    "df_owner.columns = map(str.lower, df_owner.columns)\n",
    "df_owner.columns = df_owner.columns.str.replace(' ', '_')\n",
    "print(df_owner.shape)\n",
    "print(owner.shape)\n",
    "print(owner[owner[\"Languages\"].str.startswith('{')].shape)"
   ]
  },
  {
   "cell_type": "code",
   "execution_count": 17,
   "metadata": {},
   "outputs": [
    {
     "data": {
      "text/plain": [
       "array([nan, False, True], dtype=object)"
      ]
     },
     "execution_count": 17,
     "metadata": {},
     "output_type": "execute_result"
    }
   ],
   "source": [
    "# Boolean values\n",
    "funrished_mapping= {'FAUX':False, 'VRAI':True}\n",
    "prop.Furnished = prop.Furnished.map(funrished_mapping)\n",
    "prop.Furnished.unique()"
   ]
  },
  {
   "cell_type": "code",
   "execution_count": 18,
   "metadata": {},
   "outputs": [],
   "source": [
    "# make a dictionary that maps the month name in french to a number\n",
    "french_to_eng = {'janv':'1','févr':'2','mars': '3','avr': '4','mai':'5','juin':'6','juil': '7','août': '8','sept': '9','oct':'10','nov':'11','déc':'12'}\n",
    "year_mapping = {'13':'2013','14':'2014','15':'2015','16':'2016','17':'2017','18':'2018', '19':'2019'}\n",
    "\n",
    "# make new columsn for day month and year. For month, map the french name to month numbers\n",
    "prop['day_offline_at'] = prop[prop['Jour de Offline At'].notnull() == True]['Jour de Offline At'].apply(lambda x : x.split('-')[0])\n",
    "prop['month_offline_at'] = prop[prop['Jour de Offline At'].notnull() == True]['Jour de Offline At'].apply(lambda x : x.split('-')[1]).map(french_to_eng)\n",
    "prop['year_offline_at'] = prop[prop['Jour de Offline At'].notnull() == True]['Jour de Offline At'].apply(lambda x : x.split('-')[2]).map(year_mapping)\n",
    "\n",
    "# make date time column from year, month and day.\n",
    "prop['offline_date'] = pd.to_datetime(prop['year_offline_at']+'-'+prop['month_offline_at']+'-'+prop['day_offline_at'],format='%Y-%m-%d', errors='ignore')\n",
    "\n",
    "prop = prop.drop(columns=['day_offline_at', 'month_offline_at', 'year_offline_at'])"
   ]
  },
  {
   "cell_type": "code",
   "execution_count": 19,
   "metadata": {},
   "outputs": [],
   "source": [
    "# make a dictionary that maps the month name in french to a number\n",
    "\n",
    "# make new columsn for day month and year. For month, map the french name to month numbers\n",
    "prop['day_online_at'] = prop[prop['Jour de Online At'].notnull() == True]['Jour de Online At'].apply(lambda x : x.split('-')[0])\n",
    "prop['month_online_at'] = prop[prop['Jour de Online At'].notnull() == True]['Jour de Online At'].apply(lambda x : x.split('-')[1]).map(french_to_eng)\n",
    "prop['year_online_at'] = prop[prop['Jour de Online At'].notnull() == True]['Jour de Online At'].apply(lambda x : x.split('-')[2]).map(year_mapping)\n",
    "\n",
    "# make date time column from year, month and day.\n",
    "prop['online_date'] = pd.to_datetime(prop['year_online_at']+'-'+prop['month_online_at']+'-'+prop['day_online_at'],format='%Y-%m-%d', errors='ignore')\n",
    "\n",
    "prop = prop.drop(columns=['day_online_at', 'month_online_at', 'year_online_at'])"
   ]
  },
  {
   "cell_type": "code",
   "execution_count": 20,
   "metadata": {},
   "outputs": [],
   "source": [
    "# make a dictionary that maps the month name in french to a number\n",
    "\n",
    "# make new columsn for day month and year. For month, map the french name to month numbers\n",
    "prop['day_created_at'] = prop[prop['Jour de Created At (Properties)'].notnull() == True]['Jour de Created At (Properties)'].apply(lambda x : x.split('-')[0])\n",
    "prop['month_created_at'] = prop[prop['Jour de Created At (Properties)'].notnull() == True]['Jour de Created At (Properties)'].apply(lambda x : x.split('-')[1]).map(french_to_eng)\n",
    "prop['year_created_at'] = prop[prop['Jour de Created At (Properties)'].notnull() == True]['Jour de Created At (Properties)'].apply(lambda x : x.split('-')[2]).map(year_mapping)\n",
    "\n",
    "# make date time column from year, month and day.\n",
    "prop['proprety_creation_date'] = pd.to_datetime(prop['year_created_at']+'-'+prop['month_created_at']+'-'+prop['day_created_at'],format='%Y-%m-%d', errors='ignore')\n",
    "\n",
    "prop = prop.drop(columns=['day_created_at', 'month_created_at', 'year_created_at','Jour de Offline At','Jour de Online At','Jour de Created At (Properties)'])"
   ]
  },
  {
   "cell_type": "code",
   "execution_count": 21,
   "metadata": {},
   "outputs": [],
   "source": [
    "# Delete first row\n",
    "df_prop = prop[1:-1]"
   ]
  },
  {
   "cell_type": "code",
   "execution_count": 22,
   "metadata": {},
   "outputs": [],
   "source": [
    "df_prop.columns = map(str.lower, df_prop.columns)\n",
    "df_prop.columns = df_prop.columns.str.rstrip()\n",
    "df_prop.columns = df_prop.columns.str.replace(' ', '_')"
   ]
  },
  {
   "cell_type": "code",
   "execution_count": 23,
   "metadata": {},
   "outputs": [
    {
     "data": {
      "text/html": [
       "<div>\n",
       "<style scoped>\n",
       "    .dataframe tbody tr th:only-of-type {\n",
       "        vertical-align: middle;\n",
       "    }\n",
       "\n",
       "    .dataframe tbody tr th {\n",
       "        vertical-align: top;\n",
       "    }\n",
       "\n",
       "    .dataframe thead th {\n",
       "        text-align: right;\n",
       "    }\n",
       "</style>\n",
       "<table border=\"1\" class=\"dataframe\">\n",
       "  <thead>\n",
       "    <tr style=\"text-align: right;\">\n",
       "      <th></th>\n",
       "      <th>owner_id</th>\n",
       "      <th>gender</th>\n",
       "      <th>languages</th>\n",
       "      <th>country</th>\n",
       "      <th>user_sign_up_date</th>\n",
       "      <th>user_sign_in_date</th>\n",
       "      <th>today_date</th>\n",
       "      <th>seniority</th>\n",
       "      <th>days_since_last_login</th>\n",
       "      <th>age</th>\n",
       "    </tr>\n",
       "  </thead>\n",
       "  <tbody>\n",
       "    <tr>\n",
       "      <th>0</th>\n",
       "      <td>0a0e4-ad50-4b3a-81fd-a29ed0000</td>\n",
       "      <td>male</td>\n",
       "      <td>[]</td>\n",
       "      <td>NaN</td>\n",
       "      <td>2018-05-12</td>\n",
       "      <td>2019-02-19</td>\n",
       "      <td>2019-06-15</td>\n",
       "      <td>116 days</td>\n",
       "      <td>399 days</td>\n",
       "      <td>0.0</td>\n",
       "    </tr>\n",
       "    <tr>\n",
       "      <th>1</th>\n",
       "      <td>0a1e1-1cfe-46d0-9069-e567bc9c3</td>\n",
       "      <td>female</td>\n",
       "      <td>[]</td>\n",
       "      <td>NaN</td>\n",
       "      <td>2018-06-11</td>\n",
       "      <td>2018-06-26</td>\n",
       "      <td>2019-06-15</td>\n",
       "      <td>354 days</td>\n",
       "      <td>369 days</td>\n",
       "      <td>0.0</td>\n",
       "    </tr>\n",
       "    <tr>\n",
       "      <th>2</th>\n",
       "      <td>0a2b8-f8c2-4a2c-b6f8-d2f901abe</td>\n",
       "      <td>female</td>\n",
       "      <td>[]</td>\n",
       "      <td>NaN</td>\n",
       "      <td>2018-04-17</td>\n",
       "      <td>2018-04-17</td>\n",
       "      <td>2019-06-15</td>\n",
       "      <td>424 days</td>\n",
       "      <td>424 days</td>\n",
       "      <td>0.0</td>\n",
       "    </tr>\n",
       "    <tr>\n",
       "      <th>3</th>\n",
       "      <td>0a2bd-8842-4067-b52e-0a8922be2</td>\n",
       "      <td>female</td>\n",
       "      <td>[\"en\", \"fr\"]</td>\n",
       "      <td>NaN</td>\n",
       "      <td>2017-06-26</td>\n",
       "      <td>2017-07-17</td>\n",
       "      <td>2019-06-15</td>\n",
       "      <td>698 days</td>\n",
       "      <td>719 days</td>\n",
       "      <td>0.0</td>\n",
       "    </tr>\n",
       "    <tr>\n",
       "      <th>4</th>\n",
       "      <td>0a3ef-f75e-463c-b52b-fa39184d5</td>\n",
       "      <td>male</td>\n",
       "      <td>[]</td>\n",
       "      <td>NaN</td>\n",
       "      <td>2018-03-09</td>\n",
       "      <td>2018-03-09</td>\n",
       "      <td>2019-06-15</td>\n",
       "      <td>463 days</td>\n",
       "      <td>463 days</td>\n",
       "      <td>0.0</td>\n",
       "    </tr>\n",
       "  </tbody>\n",
       "</table>\n",
       "</div>"
      ],
      "text/plain": [
       "                         owner_id  gender     languages country  \\\n",
       "0  0a0e4-ad50-4b3a-81fd-a29ed0000    male            []     NaN   \n",
       "1  0a1e1-1cfe-46d0-9069-e567bc9c3  female            []     NaN   \n",
       "2  0a2b8-f8c2-4a2c-b6f8-d2f901abe  female            []     NaN   \n",
       "3  0a2bd-8842-4067-b52e-0a8922be2  female  [\"en\", \"fr\"]     NaN   \n",
       "4  0a3ef-f75e-463c-b52b-fa39184d5    male            []     NaN   \n",
       "\n",
       "  user_sign_up_date user_sign_in_date today_date seniority  \\\n",
       "0        2018-05-12        2019-02-19 2019-06-15  116 days   \n",
       "1        2018-06-11        2018-06-26 2019-06-15  354 days   \n",
       "2        2018-04-17        2018-04-17 2019-06-15  424 days   \n",
       "3        2017-06-26        2017-07-17 2019-06-15  698 days   \n",
       "4        2018-03-09        2018-03-09 2019-06-15  463 days   \n",
       "\n",
       "  days_since_last_login  age  \n",
       "0              399 days  0.0  \n",
       "1              369 days  0.0  \n",
       "2              424 days  0.0  \n",
       "3              719 days  0.0  \n",
       "4              463 days  0.0  "
      ]
     },
     "execution_count": 23,
     "metadata": {},
     "output_type": "execute_result"
    }
   ],
   "source": [
    "df_owner.head()"
   ]
  },
  {
   "cell_type": "markdown",
   "metadata": {},
   "source": [
    "# Analysis"
   ]
  },
  {
   "cell_type": "code",
   "execution_count": 52,
   "metadata": {},
   "outputs": [
    {
     "data": {
      "text/plain": [
       "gender\n",
       "female    7495\n",
       "male      7604\n",
       "Name: owner_id, dtype: int64"
      ]
     },
     "execution_count": 52,
     "metadata": {},
     "output_type": "execute_result"
    }
   ],
   "source": [
    "df_owner.groupby('gender').count().owner_id"
   ]
  },
  {
   "cell_type": "code",
   "execution_count": 35,
   "metadata": {},
   "outputs": [],
   "source": [
    "import plotly.plotly as py\n",
    "import plotly.graph_objs as go"
   ]
  },
  {
   "cell_type": "code",
   "execution_count": 152,
   "metadata": {},
   "outputs": [
    {
     "data": {
      "text/html": [
       "<iframe id=\"igraph\" scrolling=\"no\" style=\"border:none;\" seamless=\"seamless\" src=\"https://plot.ly/~AlxLc/20.embed\" height=\"525px\" width=\"100%\"></iframe>"
      ],
      "text/plain": [
       "<plotly.tools.PlotlyDisplay object>"
      ]
     },
     "execution_count": 152,
     "metadata": {},
     "output_type": "execute_result"
    }
   ],
   "source": [
    "trace = go.Scatter(\n",
    "    x = df_owner[['owner_id','days_since_last_login']].owner_id.tolist(),\n",
    "    y = df_owner['days_since_last_login'].apply(lambda x : x.days).tolist(),\n",
    "    mode = 'markers'\n",
    ")\n",
    "\n",
    "data = [trace]\n",
    "py.iplot(data, filename='basic-scatter')"
   ]
  },
  {
   "cell_type": "markdown",
   "metadata": {},
   "source": [
    "On distingue deux groupes d'utilisateurs: les actifs ayant réaliser une connexion au cours des 500 derniers jours, et ceux qui semblent avoir quitter la plateforme il y a envion 700 jours."
   ]
  },
  {
   "cell_type": "code",
   "execution_count": 169,
   "metadata": {},
   "outputs": [
    {
     "data": {
      "text/plain": [
       "owner_id                          object\n",
       "gender                            object\n",
       "languages                         object\n",
       "country                           object\n",
       "user_sign_up_date         datetime64[ns]\n",
       "user_sign_in_date         datetime64[ns]\n",
       "today_date                datetime64[ns]\n",
       "seniority                timedelta64[ns]\n",
       "days_since_last_login    timedelta64[ns]\n",
       "age                              float64\n",
       "dtype: object"
      ]
     },
     "execution_count": 169,
     "metadata": {},
     "output_type": "execute_result"
    }
   ],
   "source": [
    "df_owner.dtypes"
   ]
  },
  {
   "cell_type": "code",
   "execution_count": 181,
   "metadata": {},
   "outputs": [
    {
     "data": {
      "text/html": [
       "<div>\n",
       "<style scoped>\n",
       "    .dataframe tbody tr th:only-of-type {\n",
       "        vertical-align: middle;\n",
       "    }\n",
       "\n",
       "    .dataframe tbody tr th {\n",
       "        vertical-align: top;\n",
       "    }\n",
       "\n",
       "    .dataframe thead th {\n",
       "        text-align: right;\n",
       "    }\n",
       "</style>\n",
       "<table border=\"1\" class=\"dataframe\">\n",
       "  <thead>\n",
       "    <tr style=\"text-align: right;\">\n",
       "      <th></th>\n",
       "      <th>owner_id</th>\n",
       "      <th>gender</th>\n",
       "      <th>languages</th>\n",
       "      <th>country</th>\n",
       "      <th>user_sign_up_date</th>\n",
       "      <th>user_sign_in_date</th>\n",
       "      <th>today_date</th>\n",
       "      <th>seniority</th>\n",
       "      <th>days_since_last_login</th>\n",
       "      <th>age</th>\n",
       "    </tr>\n",
       "  </thead>\n",
       "  <tbody>\n",
       "    <tr>\n",
       "      <th>5547</th>\n",
       "      <td>90b16-913d-4804-867d-c7d7c7b33</td>\n",
       "      <td>female</td>\n",
       "      <td>[\"de\", \"en\", \"fr\"]</td>\n",
       "      <td>NaN</td>\n",
       "      <td>2015-12-21</td>\n",
       "      <td>2019-06-08</td>\n",
       "      <td>2019-06-15</td>\n",
       "      <td>7 days</td>\n",
       "      <td>1272 days</td>\n",
       "      <td>-11.0</td>\n",
       "    </tr>\n",
       "    <tr>\n",
       "      <th>12585</th>\n",
       "      <td>d62f8-0adf-4935-84ca-ed686825e</td>\n",
       "      <td>male</td>\n",
       "      <td>[\"fr\", \"en\"]</td>\n",
       "      <td>NaN</td>\n",
       "      <td>2017-02-05</td>\n",
       "      <td>2018-03-05</td>\n",
       "      <td>2019-06-15</td>\n",
       "      <td>467 days</td>\n",
       "      <td>860 days</td>\n",
       "      <td>-952.0</td>\n",
       "    </tr>\n",
       "  </tbody>\n",
       "</table>\n",
       "</div>"
      ],
      "text/plain": [
       "                             owner_id  gender           languages country  \\\n",
       "5547   90b16-913d-4804-867d-c7d7c7b33  female  [\"de\", \"en\", \"fr\"]     NaN   \n",
       "12585  d62f8-0adf-4935-84ca-ed686825e    male        [\"fr\", \"en\"]     NaN   \n",
       "\n",
       "      user_sign_up_date user_sign_in_date today_date seniority  \\\n",
       "5547         2015-12-21        2019-06-08 2019-06-15    7 days   \n",
       "12585        2017-02-05        2018-03-05 2019-06-15  467 days   \n",
       "\n",
       "      days_since_last_login    age  \n",
       "5547              1272 days  -11.0  \n",
       "12585              860 days -952.0  "
      ]
     },
     "execution_count": 181,
     "metadata": {},
     "output_type": "execute_result"
    }
   ],
   "source": [
    "df_owner[df_owner.age <= -1]"
   ]
  },
  {
   "cell_type": "code",
   "execution_count": 175,
   "metadata": {},
   "outputs": [
    {
     "data": {
      "text/html": [
       "<div>\n",
       "<style scoped>\n",
       "    .dataframe tbody tr th:only-of-type {\n",
       "        vertical-align: middle;\n",
       "    }\n",
       "\n",
       "    .dataframe tbody tr th {\n",
       "        vertical-align: top;\n",
       "    }\n",
       "\n",
       "    .dataframe thead th {\n",
       "        text-align: right;\n",
       "    }\n",
       "</style>\n",
       "<table border=\"1\" class=\"dataframe\">\n",
       "  <thead>\n",
       "    <tr style=\"text-align: right;\">\n",
       "      <th></th>\n",
       "      <th>seniority</th>\n",
       "      <th>days_since_last_login</th>\n",
       "      <th>age</th>\n",
       "    </tr>\n",
       "  </thead>\n",
       "  <tbody>\n",
       "    <tr>\n",
       "      <th>count</th>\n",
       "      <td>15099</td>\n",
       "      <td>15099</td>\n",
       "      <td>15099.000000</td>\n",
       "    </tr>\n",
       "    <tr>\n",
       "      <th>mean</th>\n",
       "      <td>264 days 02:43:56.518974</td>\n",
       "      <td>395 days 14:47:13.936022</td>\n",
       "      <td>5.893172</td>\n",
       "    </tr>\n",
       "    <tr>\n",
       "      <th>std</th>\n",
       "      <td>196 days 14:13:31.322066</td>\n",
       "      <td>249 days 20:32:28.551864</td>\n",
       "      <td>18.860931</td>\n",
       "    </tr>\n",
       "    <tr>\n",
       "      <th>min</th>\n",
       "      <td>4 days 00:00:00</td>\n",
       "      <td>4 days 00:00:00</td>\n",
       "      <td>-952.000000</td>\n",
       "    </tr>\n",
       "    <tr>\n",
       "      <th>25%</th>\n",
       "      <td>82 days 00:00:00</td>\n",
       "      <td>255 days 00:00:00</td>\n",
       "      <td>0.000000</td>\n",
       "    </tr>\n",
       "    <tr>\n",
       "      <th>50%</th>\n",
       "      <td>295 days 00:00:00</td>\n",
       "      <td>374 days 00:00:00</td>\n",
       "      <td>0.000000</td>\n",
       "    </tr>\n",
       "    <tr>\n",
       "      <th>75%</th>\n",
       "      <td>379 days 00:00:00</td>\n",
       "      <td>448 days 00:00:00</td>\n",
       "      <td>0.000000</td>\n",
       "    </tr>\n",
       "    <tr>\n",
       "      <th>max</th>\n",
       "      <td>1272 days 00:00:00</td>\n",
       "      <td>1272 days 00:00:00</td>\n",
       "      <td>119.000000</td>\n",
       "    </tr>\n",
       "  </tbody>\n",
       "</table>\n",
       "</div>"
      ],
      "text/plain": [
       "                      seniority     days_since_last_login           age\n",
       "count                     15099                     15099  15099.000000\n",
       "mean   264 days 02:43:56.518974  395 days 14:47:13.936022      5.893172\n",
       "std    196 days 14:13:31.322066  249 days 20:32:28.551864     18.860931\n",
       "min             4 days 00:00:00           4 days 00:00:00   -952.000000\n",
       "25%            82 days 00:00:00         255 days 00:00:00      0.000000\n",
       "50%           295 days 00:00:00         374 days 00:00:00      0.000000\n",
       "75%           379 days 00:00:00         448 days 00:00:00      0.000000\n",
       "max          1272 days 00:00:00        1272 days 00:00:00    119.000000"
      ]
     },
     "execution_count": 175,
     "metadata": {},
     "output_type": "execute_result"
    }
   ],
   "source": [
    "-> traduire les timedelta en int\n",
    "df_owner.describe()"
   ]
  },
  {
   "cell_type": "code",
   "execution_count": null,
   "metadata": {},
   "outputs": [],
   "source": []
  }
 ],
 "metadata": {
  "kernelspec": {
   "display_name": "Python 3",
   "language": "python",
   "name": "python3"
  },
  "language_info": {
   "codemirror_mode": {
    "name": "ipython",
    "version": 3
   },
   "file_extension": ".py",
   "mimetype": "text/x-python",
   "name": "python",
   "nbconvert_exporter": "python",
   "pygments_lexer": "ipython3",
   "version": "3.6.7"
  }
 },
 "nbformat": 4,
 "nbformat_minor": 2
}
